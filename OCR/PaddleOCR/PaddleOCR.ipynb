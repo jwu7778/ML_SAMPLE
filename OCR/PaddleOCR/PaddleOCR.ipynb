{
 "cells": [
  {
   "cell_type": "markdown",
   "metadata": {},
   "source": [
    "# Inference"
   ]
  },
  {
   "cell_type": "code",
   "execution_count": 12,
   "metadata": {},
   "outputs": [],
   "source": [
    "#if you have installed packages previously, just cd PaddleOCR to begin with"
   ]
  },
  {
   "cell_type": "code",
   "execution_count": 1,
   "metadata": {},
   "outputs": [
    {
     "name": "stdout",
     "output_type": "stream",
     "text": [
      "/home/z890/.conda/envs/paddletest/bin/python\n"
     ]
    }
   ],
   "source": [
    "import sys\n",
    "print(sys.executable)"
   ]
  },
  {
   "cell_type": "code",
   "execution_count": 3,
   "metadata": {
    "scrolled": true
   },
   "outputs": [
    {
     "name": "stdout",
     "output_type": "stream",
     "text": [
      "[2025/04/30 16:29:55] ppocr DEBUG: Namespace(help='==SUPPRESS==', use_gpu=False, use_xpu=False, use_npu=False, use_mlu=False, use_gcu=False, ir_optim=True, use_tensorrt=False, min_subgraph_size=15, precision='fp32', gpu_mem=500, gpu_id=0, image_dir=None, page_num=0, det_algorithm='DB', det_model_dir='/home/z890/.paddleocr/whl/det/en/en_PP-OCRv3_det_infer', det_limit_side_len=960, det_limit_type='max', det_box_type='quad', det_db_thresh=0.3, det_db_box_thresh=0.3, det_db_unclip_ratio=1.5, max_batch_size=10, use_dilation=False, det_db_score_mode='fast', det_east_score_thresh=0.8, det_east_cover_thresh=0.1, det_east_nms_thresh=0.2, det_sast_score_thresh=0.5, det_sast_nms_thresh=0.2, det_pse_thresh=0, det_pse_box_thresh=0.85, det_pse_min_area=16, det_pse_scale=1, scales=[8, 16, 32], alpha=1.0, beta=1.0, fourier_degree=5, rec_algorithm='SVTR_LCNet', rec_model_dir='./models/en_PP-OCRv4_rec_infer/', rec_image_inverse=True, rec_image_shape='3, 48, 320', rec_batch_num=6, max_text_length=25, rec_char_dict_path='/home/z890/Downloads/new padd/PaddleOCR/ppocr/utils/en_dict.txt', use_space_char=True, vis_font_path='./doc/fonts/simfang.ttf', drop_score=0.3, e2e_algorithm='PGNet', e2e_model_dir=None, e2e_limit_side_len=768, e2e_limit_type='max', e2e_pgnet_score_thresh=0.5, e2e_char_dict_path='./ppocr/utils/ic15_dict.txt', e2e_pgnet_valid_set='totaltext', e2e_pgnet_mode='fast', use_angle_cls=True, cls_model_dir='/home/z890/.paddleocr/whl/cls/ch_ppocr_mobile_v2.0_cls_infer', cls_image_shape='3, 48, 192', label_list=['0', '180'], cls_batch_num=6, cls_thresh=0.9, enable_mkldnn=False, cpu_threads=10, use_pdserving=False, warmup=False, sr_model_dir=None, sr_image_shape='3, 32, 128', sr_batch_num=1, draw_img_save_dir='./inference_results', save_crop_res=False, crop_res_save_dir='./output', use_mp=False, total_process_num=1, process_id=0, benchmark=False, save_log_path='./log_output/', show_log=True, use_onnx=False, onnx_providers=False, onnx_sess_options=False, return_word_box=False, output='./output', table_max_len=488, table_algorithm='TableAttn', table_model_dir=None, merge_no_span_structure=True, table_char_dict_path=None, formula_algorithm='LaTeXOCR', formula_model_dir=None, formula_char_dict_path=None, formula_batch_num=1, layout_model_dir=None, layout_dict_path=None, layout_score_threshold=0.5, layout_nms_threshold=0.5, kie_algorithm='LayoutXLM', ser_model_dir=None, re_model_dir=None, use_visual_backbone=True, ser_dict_path='../train_data/XFUND/class_list_xfun.txt', ocr_order_method=None, mode='structure', image_orientation=False, layout=True, table=True, formula=False, ocr=True, recovery=False, recovery_to_markdown=False, use_pdf2docx_api=False, invert=False, binarize=False, alphacolor=(255, 255, 255), lang='en', det=True, rec=True, type='ocr', savefile=False, ocr_version='PP-OCRv4', structure_version='PP-StructureV2')\n",
      "[2025/04/30 16:29:56] ppocr DEBUG: dt_boxes num : 31, elapsed : 0.20623779296875\n",
      "[2025/04/30 16:29:56] ppocr DEBUG: cls num  : 31, elapsed : 0.037165164947509766\n",
      "[2025/04/30 16:29:57] ppocr DEBUG: rec_res num  : 31, elapsed : 0.7290194034576416\n",
      "[[[[[1044.0, 445.0], [1572.0, 441.0], [1572.0, 512.0], [1044.0, 517.0]], ('1141-2', 0.8444712162017822)], [[[945.0, 693.0], [1516.0, 693.0], [1516.0, 794.0], [945.0, 794.0]], ('HW22497914', 0.9932740330696106)], [[[1095.0, 819.0], [1143.0, 819.0], [1143.0, 853.0], [1095.0, 853.0]], ('5', 0.43401679396629333)], [[[1077.0, 1013.0], [1368.0, 999.0], [1371.0, 1062.0], [1080.0, 1076.0]], ('NO:31433191', 0.9524099230766296)], [[[965.0, 1080.0], [1548.0, 1049.0], [1552.0, 1121.0], [969.0, 1152.0]], ('21', 0.8930181860923767)], [[[1008.0, 1148.0], [1457.0, 1120.0], [1462.0, 1191.0], [1013.0, 1219.0]], ('TEL022911-4777', 0.9574480652809143)], [[[1426.0, 1256.0], [1538.0, 1256.0], [1538.0, 1323.0], [1426.0, 1323.0]], ('1', 0.8450843095779419)], [[[961.0, 1278.0], [1234.0, 1263.0], [1238.0, 1334.0], [965.0, 1349.0]], ('2025-01-08', 0.9892106056213379)], [[[961.0, 1340.0], [1587.0, 1314.0], [1591.0, 1390.0], [964.0, 1416.0]], ('000001000054001', 0.9557222723960876)], [[[1452.0, 1390.0], [1594.0, 1390.0], [1594.0, 1462.0], [1452.0, 1462.0]], ('530Tx', 0.9556475877761841)], [[[966.0, 1415.0], [1078.0, 1415.0], [1078.0, 1478.0], [966.0, 1478.0]], ('DF01', 0.9521900415420532)], [[[1280.0, 1470.0], [1370.0, 1470.0], [1370.0, 1537.0], [1280.0, 1537.0]], ('1I', 0.5735876560211182)], [[[1439.0, 1520.0], [1611.0, 1520.0], [1611.0, 1600.0], [1439.0, 1600.0]], ('330', 0.6861534118652344)], [[[1512.0, 1592.0], [1611.0, 1592.0], [1611.0, 1663.0], [1512.0, 1663.0]], ('530', 0.9956687092781067)], [[[961.0, 1689.0], [1187.0, 1679.0], [1191.0, 1755.0], [965.0, 1765.0]], ('13:00:57', 0.8983286023139954)], [[[1293.0, 2797.0], [1448.0, 2797.0], [1448.0, 2843.0], [1293.0, 2843.0]], ('E', 0.39018428325653076)], [[[1238.0, 2855.0], [1449.0, 2907.0], [1428.0, 2986.0], [1218.0, 2934.0]], ('#oue', 0.3654837906360626)], [[[1056.0, 3071.0], [1647.0, 3048.0], [1651.0, 3136.0], [1059.0, 3159.0]], ('Le', 0.6785145998001099)], [[[1000.0, 3386.0], [1716.0, 3359.0], [1719.0, 3431.0], [1003.0, 3457.0]], ('0800-000-321', 0.8953742980957031)], [[[1000.0, 3441.0], [1699.0, 3414.0], [1702.0, 3485.0], [1003.0, 3512.0]], ('75', 0.9220173954963684)]]]\n"
     ]
    }
   ],
   "source": [
    "from paddleocr import PaddleOCR, draw_ocr\n",
    "\n",
    "# You can set the parameter `lang` as `ch`, `en`, `french`, `german`, `korean`, `japan`\n",
    "# for more languages https://paddlepaddle.github.io/PaddleOCR/main/en/ppocr/blog/multi_languages.html#4-inference-and-deployment\n",
    "# PaddleOCR consist of text detection model, text recognition model and angle classifier model, which allow you to make combination\n",
    "# check model zoo at https://paddlepaddle.github.io/PaddleOCR/main/en/ppocr/model_list.html#23-multilingual-recognition-modelupdating\n",
    "# for more parameters https://paddlepaddle.github.io/PaddleOCR/main/en/ppocr/blog/inference_args.html\n",
    "ocr = PaddleOCR(rec_model_dir='./models/en_PP-OCRv4_rec_infer/',use_angle_cls=True, lang='en',det_db_box_thresh=0.3,drop_score=0.3)\n",
    "img_path = './sample_image.jpg'\n",
    "result = ocr.ocr(img_path, cls=True)\n",
    "print(result)\n",
    "\n",
    "# for the first time running the script, it will download the models from url\n",
    "# Default '~/.paddleocr/', that create location like  '~/.paddleocr/whl/cls'"
   ]
  },
  {
   "cell_type": "code",
   "execution_count": 4,
   "metadata": {},
   "outputs": [],
   "source": [
    "import numpy as np\n",
    "import cv2\n",
    "from PIL import Image, ImageDraw, ImageFont"
   ]
  },
  {
   "cell_type": "code",
   "execution_count": 5,
   "metadata": {},
   "outputs": [],
   "source": [
    "# plot the detection\n",
    "import numpy as np\n",
    "import cv2\n",
    "from PIL import Image, ImageDraw, ImageFont\n",
    "\n",
    "# Create a white background image (adjust size as needed)\n",
    "with Image.open(img_path) as img:\n",
    "    img_width, img_height = img.size\n",
    "\n",
    "# Create a white background image with same dimensions as original\n",
    "img = Image.new('RGB', (img_width, img_height), (255, 255, 255))\n",
    "draw = ImageDraw.Draw(img)\n",
    "\n",
    "# Load font\n",
    "# you can download from https://github.com/PaddlePaddle/PaddleOCR/tree/main/doc/fonts\n",
    "font_path = None # if None, it will use default\n",
    "\n",
    "for item in result[0]:\n",
    "    text = item[1][0]\n",
    "    if not text:  # Skip empty text\n",
    "        continue\n",
    "        \n",
    "    # Get the bounding box coordinates\n",
    "    box = item[0]\n",
    "    x_min, y_min = box[0][0], box[0][1]\n",
    "    x_max, y_max = box[2][0], box[2][1]\n",
    "    \n",
    "    # Calculate text width and height\n",
    "    text_width = x_max - x_min\n",
    "    text_height = y_max - y_min\n",
    "    \n",
    "    # Calculate font size based on text height\n",
    "    font_size = int((text_height + text_width/len(text))*0.35)  # Adjust factor as needed\n",
    "\n",
    "    if font_size < 10:\n",
    "        font_size = 10  # Minimum font size\n",
    "    if font_size > 200:\n",
    "        font_size = 200 \n",
    "    try:\n",
    "        font = ImageFont.truetype(font_path, font_size)\n",
    "    except:\n",
    "        font = ImageFont.load_default(size=font_size)\n",
    "    \n",
    "    # Calculate text position (centered in the box)\n",
    "    text_bbox = draw.textbbox((0, 0), text, font=font)\n",
    "    text_w = text_bbox[2] - text_bbox[0]\n",
    "    text_h = text_bbox[3] - text_bbox[1]\n",
    "    \n",
    "    # Calculate position to center text in the box\n",
    "    x_pos = x_min + (text_width - text_w) // 2\n",
    "    y_pos = y_min + (text_height - text_h) // 2\n",
    "    \n",
    "    # Draw the text\n",
    "    draw.text((x_pos, y_pos), text, font=font, fill=(0, 0, 0))\n",
    "\n",
    "# Save or show the image\n",
    "img.save('output_text.png')\n",
    "img.show()"
   ]
  },
  {
   "cell_type": "markdown",
   "metadata": {},
   "source": [
    "# Export to onnx"
   ]
  },
  {
   "cell_type": "code",
   "execution_count": 6,
   "metadata": {},
   "outputs": [],
   "source": [
    "import sys\n",
    "import os\n",
    "import subprocess\n",
    "import datetime\n",
    "import re\n",
    "import shutil\n",
    "\n",
    "def get_conda_env_name():\n",
    "    \"\"\"Get current conda environment name.\"\"\"\n",
    "    env_path = sys.prefix\n",
    "    env_name = os.path.basename(env_path)\n",
    "    return env_name\n",
    "\n",
    "def fix_newlines(text):\n",
    "    \"\"\"Normalize newlines: replace CRLF or CR with LF, ensure clean line breaks.\"\"\"\n",
    "    return text.replace('\\r\\n', '\\n').replace('\\r', '\\n')\n",
    "\n",
    "def find_conda_bin():\n",
    "    \"\"\"Try to find the conda executable path.\"\"\"\n",
    "    possible_paths = [\n",
    "        os.path.join(sys.prefix, \"bin\", \"conda\"),\n",
    "        \"/opt/miniconda3/bin/conda\",\n",
    "        os.path.expanduser(\"~/miniconda3/bin/conda\"),\n",
    "        os.path.expanduser(\"~/anaconda3/bin/conda\"),\n",
    "        shutil.which(\"conda\")\n",
    "    ]\n",
    "    for path in possible_paths:\n",
    "        if path and os.path.exists(path):\n",
    "            return path\n",
    "    raise FileNotFoundError(\"Could not find 'conda' executable.\")\n",
    "\n",
    "def print_divider():\n",
    "    \"\"\"Print a visual divider line.\"\"\"\n",
    "    print(\"\\n\" + \"─\" * 80 + \"\\n\")\n",
    "\n",
    "def run_in_conda_advanced(command, verbose=True, raise_on_error=True):\n",
    "    \"\"\"Run a command inside the current conda environment using 'conda run'.\"\"\"\n",
    "    env_name = get_conda_env_name()\n",
    "    conda_bin = find_conda_bin()\n",
    "    full_command = [conda_bin, \"run\", \"-n\", env_name] + command.split()\n",
    "\n",
    "    timestamp = datetime.datetime.now().strftime('%Y-%m-%d %H:%M:%S')\n",
    "    print_divider()\n",
    "    print(f\"[{timestamp}] Running:\\n{' '.join(full_command)}\")\n",
    "    print_divider()\n",
    "\n",
    "    try:\n",
    "        result = subprocess.run(\n",
    "            full_command,\n",
    "            check=True,\n",
    "            stdout=subprocess.PIPE,\n",
    "            stderr=subprocess.PIPE,\n",
    "            text=True\n",
    "        )\n",
    "        output = fix_newlines(result.stdout)\n",
    "        if verbose:\n",
    "            print(output)\n",
    "        print_divider()\n",
    "        print(f\"[{timestamp}] Command executed successfully.\\n\")\n",
    "        print_divider()\n",
    "        return None\n",
    "\n",
    "    except subprocess.CalledProcessError as e:\n",
    "        output = fix_newlines(e.stdout) + \"\\n\" + fix_newlines(e.stderr)\n",
    "        print_divider()\n",
    "        print(f\"[{timestamp}] Command failed with return code {e.returncode}\\n\")\n",
    "        if verbose:\n",
    "            print(output)\n",
    "        print_divider()\n",
    "        if raise_on_error:\n",
    "            raise RuntimeError(f\"Command failed: {output}\") from None\n",
    "        else:\n",
    "            return None\n"
   ]
  },
  {
   "cell_type": "code",
   "execution_count": 7,
   "metadata": {},
   "outputs": [
    {
     "name": "stdout",
     "output_type": "stream",
     "text": [
      "\n",
      "────────────────────────────────────────────────────────────────────────────────\n",
      "\n",
      "[2025-04-30 16:30:16] Running:\n",
      "/opt/miniconda3/bin/conda run -n paddletest paddle2onnx --model_dir ./models/ch_PP-OCRv4_rec_infer --model_filename inference.pdmodel --params_filename inference.pdiparams --save_file ./inference/rec_onnx/model.onnx --opset_version 11 --enable_onnx_checker True\n",
      "\n",
      "────────────────────────────────────────────────────────────────────────────────\n",
      "\n",
      "\u001b[0;33m2025-04-30 16:30:18 [WARNING]\tThe .pdmodel file is deprecated in paddlepaddle 3.0 and will be removed in the future. Try to convert from .pdmodel file to json file.\u001b[0m\n",
      "[Paddle2ONNX] Start parsing the Paddle model file...\n",
      "[Paddle2ONNX] Use opset_version = 14 for ONNX export.\n",
      "[Paddle2ONNX] PaddlePaddle model is exported as ONNX format now.\n",
      "\u001b[0;33m2025-04-30 16:30:18 [WARNING]\tIntermediate model and param files will be deleted, if you want to keep them, please set env variable `P2O_KEEP_TEMP_MODEL` to True.\u001b[0m\n",
      "2025-04-30 16:30:18 [INFO]\tTry to perform optimization on the ONNX model with onnxoptimizer.\n",
      "2025-04-30 16:30:18 [INFO]\tONNX model saved in ./inference/rec_onnx/model.onnx.\n",
      "\n",
      "\n",
      "\n",
      "────────────────────────────────────────────────────────────────────────────────\n",
      "\n",
      "[2025-04-30 16:30:16] Command executed successfully.\n",
      "\n",
      "\n",
      "────────────────────────────────────────────────────────────────────────────────\n",
      "\n"
     ]
    }
   ],
   "source": [
    "run_in_conda_advanced(\n",
    "    \"paddle2onnx --model_dir ./models/ch_PP-OCRv4_rec_infer --model_filename inference.pdmodel --params_filename inference.pdiparams --save_file ./inference/rec_onnx/model.onnx --opset_version 11 --enable_onnx_checker True\"\n",
    ")"
   ]
  },
  {
   "cell_type": "code",
   "execution_count": 8,
   "metadata": {},
   "outputs": [
    {
     "name": "stdout",
     "output_type": "stream",
     "text": [
      "\n",
      "────────────────────────────────────────────────────────────────────────────────\n",
      "\n",
      "[2025-04-30 16:30:19] Running:\n",
      "/opt/miniconda3/bin/conda run -n paddletest paddle2onnx --model_dir ./models/ch_PP-OCRv4_det_infer --model_filename inference.pdmodel --params_filename inference.pdiparams --save_file ./inference/det_onnx/model.onnx --opset_version 11 --enable_onnx_checker True\n",
      "\n",
      "────────────────────────────────────────────────────────────────────────────────\n",
      "\n",
      "\u001b[0;33m2025-04-30 16:30:21 [WARNING]\tThe .pdmodel file is deprecated in paddlepaddle 3.0 and will be removed in the future. Try to convert from .pdmodel file to json file.\u001b[0m\n",
      "[Paddle2ONNX] Start parsing the Paddle model file...\n",
      "[Paddle2ONNX] Use opset_version = 14 for ONNX export.\n",
      "[Paddle2ONNX] PaddlePaddle model is exported as ONNX format now.\n",
      "\u001b[0;33m2025-04-30 16:30:21 [WARNING]\tIntermediate model and param files will be deleted, if you want to keep them, please set env variable `P2O_KEEP_TEMP_MODEL` to True.\u001b[0m\n",
      "2025-04-30 16:30:21 [INFO]\tTry to perform optimization on the ONNX model with onnxoptimizer.\n",
      "2025-04-30 16:30:21 [INFO]\tONNX model saved in ./inference/det_onnx/model.onnx.\n",
      "\n",
      "\n",
      "\n",
      "────────────────────────────────────────────────────────────────────────────────\n",
      "\n",
      "[2025-04-30 16:30:19] Command executed successfully.\n",
      "\n",
      "\n",
      "────────────────────────────────────────────────────────────────────────────────\n",
      "\n"
     ]
    }
   ],
   "source": [
    "run_in_conda_advanced(\n",
    "    \"paddle2onnx --model_dir ./models/ch_PP-OCRv4_det_infer --model_filename inference.pdmodel --params_filename inference.pdiparams --save_file ./inference/det_onnx/model.onnx --opset_version 11 --enable_onnx_checker True\"\n",
    ")"
   ]
  },
  {
   "cell_type": "code",
   "execution_count": 9,
   "metadata": {},
   "outputs": [
    {
     "name": "stdout",
     "output_type": "stream",
     "text": [
      "\n",
      "────────────────────────────────────────────────────────────────────────────────\n",
      "\n",
      "[2025-04-30 16:30:21] Running:\n",
      "/opt/miniconda3/bin/conda run -n paddletest paddle2onnx --model_dir ./models/ch_ppocr_mobile_v2.0_cls_infer --model_filename inference.pdmodel --params_filename inference.pdiparams --save_file ./inference/cls_onnx/model.onnx --opset_version 11 --enable_onnx_checker True\n",
      "\n",
      "────────────────────────────────────────────────────────────────────────────────\n",
      "\n",
      "\u001b[0;33m2025-04-30 16:30:22 [WARNING]\tThe .pdmodel file is deprecated in paddlepaddle 3.0 and will be removed in the future. Try to convert from .pdmodel file to json file.\u001b[0m\n",
      "[Paddle2ONNX] Start parsing the Paddle model file...\n",
      "[Paddle2ONNX] Use opset_version = 14 for ONNX export.\n",
      "[Paddle2ONNX] PaddlePaddle model is exported as ONNX format now.\n",
      "\u001b[0;33m2025-04-30 16:30:22 [WARNING]\tIntermediate model and param files will be deleted, if you want to keep them, please set env variable `P2O_KEEP_TEMP_MODEL` to True.\u001b[0m\n",
      "2025-04-30 16:30:22 [INFO]\tTry to perform optimization on the ONNX model with onnxoptimizer.\n",
      "2025-04-30 16:30:22 [INFO]\tONNX model saved in ./inference/cls_onnx/model.onnx.\n",
      "\n",
      "\n",
      "\n",
      "────────────────────────────────────────────────────────────────────────────────\n",
      "\n",
      "[2025-04-30 16:30:21] Command executed successfully.\n",
      "\n",
      "\n",
      "────────────────────────────────────────────────────────────────────────────────\n",
      "\n"
     ]
    }
   ],
   "source": [
    "run_in_conda_advanced(\"paddle2onnx --model_dir ./models/ch_ppocr_mobile_v2.0_cls_infer --model_filename inference.pdmodel --params_filename inference.pdiparams --save_file ./inference/cls_onnx/model.onnx --opset_version 11 --enable_onnx_checker True\"\n",
    ")\n"
   ]
  },
  {
   "cell_type": "code",
   "execution_count": 16,
   "metadata": {},
   "outputs": [
    {
     "name": "stdout",
     "output_type": "stream",
     "text": [
      "[2025/04/30 16:53:18] ppocr INFO: In PP-OCRv3, rec_image_shape parameter defaults to '3, 48, 320', if you are using recognition model with PP-OCRv2 or an older version, please set --rec_image_shape='3,32,320\n",
      "[2025/04/30 16:53:18] ppocr DEBUG: dt_boxes num : 27, elapsed : 0.20322084426879883\n",
      "[2025/04/30 16:53:19] ppocr DEBUG: rec_res num  : 27, elapsed : 0.34522271156311035\n",
      "[2025/04/30 16:53:19] ppocr DEBUG: 0  Predict time of ./sample_image.jpg: 0.575s\n",
      "[2025/04/30 16:53:19] ppocr DEBUG: 中华民國114年1-2月份, 0.911\n",
      "[2025/04/30 16:53:19] ppocr DEBUG: 收銀機统票, 0.903\n",
      "[2025/04/30 16:53:19] ppocr DEBUG: 收封胎, 0.580\n",
      "[2025/04/30 16:53:19] ppocr DEBUG: HW22497914, 0.995\n",
      "[2025/04/30 16:53:19] ppocr DEBUG: 大坪林三号小吃店, 0.957\n",
      "[2025/04/30 16:53:19] ppocr DEBUG: NO:31433191, 0.990\n",
      "[2025/04/30 16:53:19] ppocr DEBUG: 新北市新店區民授路12号1, 0.872\n",
      "[2025/04/30 16:53:19] ppocr DEBUG: TEL:(02)2911-4777, 0.962\n",
      "[2025/04/30 16:53:19] ppocr DEBUG: 页：1, 0.664\n",
      "[2025/04/30 16:53:19] ppocr DEBUG: 2025-01-08, 0.998\n",
      "[2025/04/30 16:53:19] ppocr DEBUG: 机000001序0000540001, 0.943\n",
      "[2025/04/30 16:53:19] ppocr DEBUG: 530T, 0.899\n",
      "[2025/04/30 16:53:19] ppocr DEBUG: DFO1, 0.772\n",
      "[2025/04/30 16:53:19] ppocr DEBUG: 1项, 0.749\n",
      "[2025/04/30 16:53:19] ppocr DEBUG: 销告糍额：, 0.609\n",
      "[2025/04/30 16:53:19] ppocr DEBUG: 530, 0.999\n",
      "[2025/04/30 16:53:19] ppocr DEBUG: 座收金额：, 0.969\n",
      "[2025/04/30 16:53:19] ppocr DEBUG: 530, 0.999\n",
      "[2025/04/30 16:53:19] ppocr DEBUG: 现金, 0.990\n",
      "[2025/04/30 16:53:19] ppocr DEBUG: 13:00:57, 0.954\n",
      "[2025/04/30 16:53:19] ppocr DEBUG: 線上缴税e指通, 0.892\n",
      "[2025/04/30 16:53:19] ppocr DEBUG: 明缴税真輕, 0.932\n",
      "[2025/04/30 16:53:19] ppocr DEBUG: 梭不法逃漏税，晴寫真寶姓名地址，寄營業, 0.813\n",
      "[2025/04/30 16:53:19] ppocr DEBUG: 人所在地稽微機關。, 0.908\n",
      "[2025/04/30 16:53:19] ppocr DEBUG: 國税局全国充服务专：0800-000-321, 0.907\n",
      "[2025/04/30 16:53:19] ppocr DEBUG: 梭翠食不法信箱：台北郵政5-75號信箱, 0.856\n",
      "[2025/04/30 16:53:20] ppocr DEBUG: The visualized image saved in ./output_sample/sample_image.jpg\n",
      "[2025/04/30 16:53:20] ppocr INFO: The predict total time is 1.5626068115234375\n"
     ]
    }
   ],
   "source": [
    "%run ./PaddleOCR/tools/infer/predict_system.py \\\n",
    "--use_gpu=False \\\n",
    "--use_onnx=True \\\n",
    "--det_model_dir=./inference/det_onnx/model.onnx \\\n",
    "--rec_model_dir=./inference/rec_onnx/model.onnx \\\n",
    "--cls_model_dir=./inference/cls_onnx/model.onnx \\\n",
    "--image_dir=./sample_image.jpg \\\n",
    "--rec_char_dict_path=./PaddleOCR/ppocr/utils/dict/ppocrv4_doc_dict.txt \\\n",
    "--vis_font_path=./PaddleOCR/doc/fonts/simfang.ttf \\\n",
    "--draw_img_save_dir=./output_sample\n"
   ]
  },
  {
   "cell_type": "code",
   "execution_count": null,
   "metadata": {},
   "outputs": [],
   "source": [
    "# you can find the box dict in system_results.txt and an image with same name that plot the detection"
   ]
  },
  {
   "cell_type": "markdown",
   "metadata": {},
   "source": [
    "# PPstructure\n",
    "Paddle also offer function of document layout analysis. <br>\n",
    "Try using PPStructure to turn image of a document to segments <br>"
   ]
  },
  {
   "cell_type": "code",
   "execution_count": 13,
   "metadata": {
    "scrolled": true
   },
   "outputs": [
    {
     "name": "stdout",
     "output_type": "stream",
     "text": [
      "[2025/04/30 16:47:57] ppocr DEBUG: Namespace(help='==SUPPRESS==', use_gpu=False, use_xpu=False, use_npu=False, use_mlu=False, use_gcu=False, ir_optim=True, use_tensorrt=False, min_subgraph_size=15, precision='fp32', gpu_mem=500, gpu_id=0, image_dir=None, page_num=0, det_algorithm='DB', det_model_dir='/home/z890/.paddleocr/whl/det/ch/ch_PP-OCRv4_det_infer', det_limit_side_len=960, det_limit_type='max', det_box_type='quad', det_db_thresh=0.3, det_db_box_thresh=0.6, det_db_unclip_ratio=1.5, max_batch_size=10, use_dilation=False, det_db_score_mode='fast', det_east_score_thresh=0.8, det_east_cover_thresh=0.1, det_east_nms_thresh=0.2, det_sast_score_thresh=0.5, det_sast_nms_thresh=0.2, det_pse_thresh=0, det_pse_box_thresh=0.85, det_pse_min_area=16, det_pse_scale=1, scales=[8, 16, 32], alpha=1.0, beta=1.0, fourier_degree=5, rec_algorithm='SVTR_LCNet', rec_model_dir='/home/z890/.paddleocr/whl/rec/ch/ch_PP-OCRv4_rec_infer', rec_image_inverse=True, rec_image_shape='3, 48, 320', rec_batch_num=6, max_text_length=25, rec_char_dict_path='/home/z890/Downloads/new padd/PaddleOCR/ppocr/utils/ppocr_keys_v1.txt', use_space_char=True, vis_font_path='./doc/fonts/simfang.ttf', drop_score=0.5, e2e_algorithm='PGNet', e2e_model_dir=None, e2e_limit_side_len=768, e2e_limit_type='max', e2e_pgnet_score_thresh=0.5, e2e_char_dict_path='./ppocr/utils/ic15_dict.txt', e2e_pgnet_valid_set='totaltext', e2e_pgnet_mode='fast', use_angle_cls=False, cls_model_dir=None, cls_image_shape='3, 48, 192', label_list=['0', '180'], cls_batch_num=6, cls_thresh=0.9, enable_mkldnn=False, cpu_threads=10, use_pdserving=False, warmup=False, sr_model_dir=None, sr_image_shape='3, 32, 128', sr_batch_num=1, draw_img_save_dir='./inference_results', save_crop_res=False, crop_res_save_dir='./output', use_mp=False, total_process_num=1, process_id=0, benchmark=False, save_log_path='./log_output/', show_log=True, use_onnx=False, onnx_providers=False, onnx_sess_options=False, return_word_box=False, output='./output', table_max_len=488, table_algorithm='TableAttn', table_model_dir='/home/z890/.paddleocr/whl/table/ch_ppstructure_mobile_v2.0_SLANet_infer', merge_no_span_structure=True, table_char_dict_path='/home/z890/Downloads/new padd/PaddleOCR/ppocr/utils/dict/table_structure_dict_ch.txt', formula_algorithm='LaTeXOCR', formula_model_dir='/home/z890/.paddleocr/whl/formula/rec_latex_ocr_infer', formula_char_dict_path='/home/z890/Downloads/new padd/PaddleOCR/ppocr/utils/dict/latex_ocr_tokenizer.json', formula_batch_num=1, layout_model_dir='/home/z890/.paddleocr/whl/layout/picodet_lcnet_x1_0_fgd_layout_cdla_infer', layout_dict_path='/home/z890/Downloads/new padd/PaddleOCR/ppocr/utils/dict/layout_dict/layout_cdla_dict.txt', layout_score_threshold=0.5, layout_nms_threshold=0.5, kie_algorithm='LayoutXLM', ser_model_dir=None, re_model_dir=None, use_visual_backbone=True, ser_dict_path='../train_data/XFUND/class_list_xfun.txt', ocr_order_method=None, mode='structure', image_orientation=False, layout=True, table=True, formula=False, ocr=True, recovery=False, recovery_to_markdown=False, use_pdf2docx_api=False, invert=False, binarize=False, alphacolor=(255, 255, 255), lang='ch', det=True, rec=True, type='ocr', savefile=False, ocr_version='PP-OCRv4', structure_version='PP-StructureV2')\n",
      "[2025/04/30 16:47:58] ppocr DEBUG: dt_boxes num : 223, elapsed : 0.19504332542419434\n",
      "[2025/04/30 16:48:02] ppocr DEBUG: rec_res num  : 223, elapsed : 3.9246325492858887\n",
      "[2025/04/30 16:48:02] ppocr DEBUG: dt_boxes num : 80, elapse : 0.050263404846191406\n",
      "[2025/04/30 16:48:04] ppocr DEBUG: rec_res num  : 80, elapse : 1.2093007564544678\n",
      "[2025/04/30 16:48:04] ppocr DEBUG: dt_boxes num : 110, elapse : 0.05548906326293945\n",
      "[2025/04/30 16:48:05] ppocr DEBUG: rec_res num  : 110, elapse : 1.6459934711456299\n",
      "{'type': 'text', 'bbox': [11, 729, 407, 847], 'res': [{'text': 'CTW1500.', 'confidence': 0.9975513815879822, 'text_region': [[12.0, 730.0], [91.0, 730.0], [91.0, 744.0], [12.0, 744.0]]}, {'text': 'In testing,the threshold ths is set to 0.8.', 'confidence': 0.9250482320785522, 'text_region': [[102.0, 729.0], [406.0, 729.0], [406.0, 746.0], [102.0, 746.0]]}, {'text': 'Representative visibleresults are shown in Fig.8(c)and', 'confidence': 0.9592491388320923, 'text_region': [[11.0, 749.0], [408.0, 749.0], [408.0, 766.0], [11.0, 766.0]]}, {'text': '(d),which indicate our method precisely detects bound-', 'confidence': 0.959008514881134, 'text_region': [[12.0, 768.0], [407.0, 768.0], [407.0, 786.0], [12.0, 786.0]]}, {'text': 'aries of long curved textwithline-level.The quantitative', 'confidence': 0.9601131677627563, 'text_region': [[11.0, 788.0], [408.0, 788.0], [408.0, 805.0], [11.0, 805.0]]}, {'text': 'results are listed in Tab. 6. Compared with the previous', 'confidence': 0.9725372195243835, 'text_region': [[9.0, 805.0], [409.0, 806.0], [409.0, 827.0], [9.0, 826.0]]}, {'text': 'sate-of-the-art methods[12,34,36],our approach achieves', 'confidence': 0.9856353998184204, 'text_region': [[9.0, 825.0], [409.0, 826.0], [409.0, 846.0], [9.0, 845.0]]}], 'img_idx': 0, 'score': 0.8465436100959778}\n",
      "{'type': 'text', 'bbox': [442, 754, 837, 847], 'res': [{'text': 'In this paper, we propose a novel adaptive bound-', 'confidence': 0.9755715131759644, 'text_region': [[460.0, 749.0], [838.0, 750.0], [838.0, 771.0], [460.0, 770.0]]}, {'text': 'ary proposal network for arbitrary shape text detection,', 'confidence': 0.9841151833534241, 'text_region': [[440.0, 771.0], [838.0, 768.0], [838.0, 790.0], [440.0, 792.0]]}, {'text': 'which adopt anboundaryproposal modeltogenerate coarse', 'confidence': 0.9822973012924194, 'text_region': [[442.0, 791.0], [840.0, 791.0], [840.0, 811.0], [442.0, 811.0]]}, {'text': 'boundary proposals, and then adopt an adaptive boundary', 'confidence': 0.9842106699943542, 'text_region': [[441.0, 810.0], [838.0, 810.0], [838.0, 831.0], [441.0, 831.0]]}, {'text': 'deformationmodelcombinedwithGCNandRNN toper-', 'confidence': 0.9871179461479187, 'text_region': [[443.0, 831.0], [837.0, 831.0], [837.0, 847.0], [443.0, 847.0]]}], 'img_idx': 0, 'score': 0.7548179626464844}\n",
      "{'type': 'title', 'bbox': [443, 705, 559, 719], 'res': [{'text': '5.Conclusion', 'confidence': 0.9979411959648132, 'text_region': [[440.0, 700.0], [561.0, 702.0], [560.0, 723.0], [440.0, 720.0]]}], 'img_idx': 0, 'score': 0.952214777469635}\n",
      "{'type': 'figure', 'bbox': [10, 1, 841, 294], 'res': [{'text': 'BARBER', 'confidence': 0.9920092225074768, 'text_region': [[664.0, 28.0], [806.0, 23.0], [807.0, 70.0], [665.0, 75.0]]}, {'text': 'R', 'confidence': 0.5276195406913757, 'text_region': [[112.0, 42.0], [128.0, 42.0], [128.0, 50.0], [112.0, 50.0]]}, {'text': 'SITE OD', 'confidence': 0.8636634945869446, 'text_region': [[494.0, 50.0], [566.0, 50.0], [566.0, 64.0], [494.0, 64.0]]}, {'text': \"ANCIENT'\", 'confidence': 0.8387000560760498, 'text_region': [[486.0, 64.0], [573.0, 64.0], [573.0, 78.0], [486.0, 78.0]]}, {'text': 'MARKETSOUARH', 'confidence': 0.897723913192749, 'text_region': [[454.0, 78.0], [606.0, 78.0], [606.0, 92.0], [454.0, 92.0]]}, {'text': '[3th C', 'confidence': 0.9619444012641907, 'text_region': [[496.0, 95.0], [560.0, 95.0], [560.0, 112.0], [496.0, 112.0]]}, {'text': 'GHOP', 'confidence': 0.9318586587905884, 'text_region': [[680.0, 98.0], [796.0, 98.0], [796.0, 135.0], [680.0, 135.0]]}, {'text': 'Nn.21', 'confidence': 0.8676325082778931, 'text_region': [[511.0, 122.0], [548.0, 122.0], [548.0, 134.0], [511.0, 134.0]]}, {'text': 'TOSZWORLD', 'confidence': 0.9351108074188232, 'text_region': [[63.0, 195.0], [204.0, 190.0], [205.0, 222.0], [64.0, 227.0]]}, {'text': 'IWTI', 'confidence': 0.5699105262756348, 'text_region': [[340.0, 200.0], [363.0, 205.0], [361.0, 214.0], [338.0, 209.0]]}, {'text': 'RLRCO', 'confidence': 0.5355225205421448, 'text_region': [[302.0, 210.0], [354.0, 212.0], [353.0, 228.0], [301.0, 225.0]]}, {'text': 'Toro', 'confidence': 0.5131609439849854, 'text_region': [[316.0, 226.0], [350.0, 222.0], [352.0, 238.0], [318.0, 242.0]]}, {'text': 'Leria dei agrirmiwr tie ia?', 'confidence': 0.71321702003479, 'text_region': [[466.0, 219.0], [594.0, 197.0], [597.0, 214.0], [469.0, 236.0]]}, {'text': 'enra wnz', 'confidence': 0.6009353399276733, 'text_region': [[512.0, 231.0], [562.0, 221.0], [565.0, 238.0], [515.0, 249.0]]}, {'text': 'SUNWACITV[POH', 'confidence': 0.857528567314148, 'text_region': [[80.0, 241.0], [188.0, 245.0], [188.0, 259.0], [79.0, 256.0]]}, {'text': '(a) Total-Text', 'confidence': 0.949919581413269, 'text_region': [[76.0, 294.0], [156.0, 292.0], [156.0, 308.0], [76.0, 309.0]]}, {'text': '(b) Total-Text', 'confidence': 0.9855353236198425, 'text_region': [[282.0, 293.0], [364.0, 293.0], [364.0, 310.0], [282.0, 310.0]]}, {'text': '(c)CTW1500', 'confidence': 0.9521142840385437, 'text_region': [[488.0, 294.0], [567.0, 292.0], [568.0, 308.0], [488.0, 309.0]]}, {'text': '(d)CTW1500', 'confidence': 0.9822337031364441, 'text_region': [[694.0, 294.0], [774.0, 292.0], [775.0, 308.0], [694.0, 309.0]]}], 'img_idx': 0, 'score': 0.9753303527832031}\n",
      "{'type': 'figure_caption', 'bbox': [70, 317, 707, 357], 'res': [{'text': 'Figure 8. Visual experimental results. The blue contours are boundary proposals, and the green contours are final detection boundaries.', 'confidence': 0.9846971035003662, 'text_region': [[9.0, 313.0], [825.0, 314.0], [825.0, 334.0], [9.0, 333.0]]}, {'text': 'Table 6. Experimental results on CTW-1500.', 'confidence': 0.988409161567688, 'text_region': [[74.0, 341.0], [345.0, 341.0], [345.0, 359.0], [74.0, 359.0]]}, {'text': 'Table 7.Experimental results on MSRA-TD500.', 'confidence': 0.9716436862945557, 'text_region': [[494.0, 342.0], [787.0, 342.0], [787.0, 357.0], [494.0, 357.0]]}], 'img_idx': 0, 'score': 0.7537909746170044}\n",
      "{'type': 'table', 'bbox': [453, 359, 822, 664], 'res': {'cell_bbox': [[37.02050018310547, 9.580436706542969, 102.865478515625, 9.564892768859863, 103.93923950195312, 23.667369842529297, 37.05268096923828, 23.756210327148438], [146.73123168945312, 7.630185127258301, 178.56280517578125, 7.454135417938232, 181.18634033203125, 24.642337799072266, 149.02528381347656, 25.273502349853516], [209.37826538085938, 5.969712257385254, 233.6901092529297, 5.8730788230896, 236.02626037597656, 23.215730667114258, 211.778564453125, 23.748119354248047], [266.7356262207031, 6.521597385406494, 291.5375671386719, 6.4087371826171875, 293.080078125, 23.34644889831543, 268.8021545410156, 23.816150665283203], [320.0260925292969, 7.064512252807617, 356.4461975097656, 6.999748706817627, 356.5975036621094, 24.539356231689453, 320.76409912109375, 24.80324935913086], [20.764663696289062, 31.068410873413086, 112.11113739013672, 30.770605087280273, 111.8117446899414, 47.67366027832031, 20.262683868408203, 47.71202850341797], [147.09393310546875, 29.537986755371094, 185.96701049804688, 29.52119255065918, 186.39846801757812, 50.782901763916016, 147.22293090820312, 50.80313491821289], [201.4009246826172, 30.028484344482422, 239.8999786376953, 30.02544403076172, 240.51068115234375, 48.402828216552734, 201.63101196289062, 48.472564697265625], [259.28375244140625, 30.221406936645508, 295.3412780761719, 30.139989852905273, 295.49932861328125, 49.522403717041016, 259.46881103515625, 49.67551040649414], [324.8450012207031, 30.319236755371094, 352.3138122558594, 30.170326232910156, 352.1299743652344, 49.13129806518555, 324.5789794921875, 49.42224884033203], [19.75926399230957, 52.04465866088867, 113.3447494506836, 51.79347229003906, 113.28691101074219, 71.20377349853516, 19.6842098236084, 71.47384643554688], [147.7875213623047, 50.777488708496094, 186.25050354003906, 50.71849822998047, 186.16127014160156, 72.69235229492188, 147.73890686035156, 72.87197875976562], [201.7216339111328, 51.11155319213867, 239.49562072753906, 51.1134147644043, 239.3672637939453, 70.07557678222656, 201.53475952148438, 70.24115753173828], [260.16357421875, 51.54108428955078, 294.98992919921875, 51.50895690917969, 294.9012756347656, 71.04859924316406, 260.20648193359375, 71.17591094970703], [325.46685791015625, 52.59823989868164, 351.6292419433594, 52.47736358642578, 351.4233703613281, 71.00972747802734, 325.216796875, 71.18136596679688], [17.259483337402344, 74.21931457519531, 117.308349609375, 74.27367401123047, 116.91519927978516, 93.48931884765625, 17.075910568237305, 93.55781555175781], [147.8004150390625, 73.47914123535156, 187.77101135253906, 73.5750503540039, 187.52554321289062, 94.5089340209961, 147.65289306640625, 94.6128921508789], [202.76220703125, 74.05461883544922, 239.10659790039062, 74.17938232421875, 238.86843872070312, 92.40625762939453, 202.44859313964844, 92.55194091796875], [260.0821838378906, 74.26006317138672, 294.1302795410156, 74.31761169433594, 294.0430603027344, 93.52986907958984, 260.1399841308594, 93.62186431884766], [326.0734558105469, 75.04293823242188, 351.823486328125, 75.009521484375, 351.6172790527344, 93.36054229736328, 325.80560302734375, 93.4991455078125], [22.54606819152832, 95.28733825683594, 115.20040130615234, 95.59255981445312, 114.78926849365234, 115.37654113769531, 22.273351669311523, 115.33139038085938], [150.01100158691406, 93.837158203125, 186.1251220703125, 94.21662139892578, 185.6057586669922, 116.07154846191406, 149.50901794433594, 116.05397033691406], [202.93338012695312, 94.76493072509766, 240.62789916992188, 94.9991226196289, 240.20175170898438, 113.63206481933594, 202.38571166992188, 113.77767181396484], [259.9727783203125, 94.88362121582031, 293.8381652832031, 95.03462982177734, 293.7027282714844, 114.2459716796875, 259.9540100097656, 114.29335021972656], [326.45623779296875, 96.2181396484375, 350.3641052246094, 96.29766082763672, 350.1504821777344, 114.8886489868164, 326.22265625, 114.96070098876953], [28.8033447265625, 117.03267669677734, 110.83393096923828, 117.35598754882812, 110.35041046142578, 137.00100708007812, 28.493288040161133, 137.0764617919922], [151.12513732910156, 114.79570007324219, 184.90530395507812, 115.2624740600586, 184.4557647705078, 136.7423858642578, 150.73284912109375, 136.77076721191406], [203.175537109375, 116.04876708984375, 241.36219787597656, 116.35325622558594, 240.87513732910156, 134.72727966308594, 202.5929412841797, 134.91395568847656], [259.8493347167969, 116.15294647216797, 294.3058166503906, 116.41777801513672, 294.1305236816406, 135.000244140625, 259.77398681640625, 135.0714569091797], [325.4111022949219, 118.581787109375, 349.1260070800781, 118.65777587890625, 348.969970703125, 135.34230041503906, 325.2773132324219, 135.4369354248047], [30.15027618408203, 139.8477783203125, 106.2280044555664, 140.0301971435547, 105.72627258300781, 158.79815673828125, 29.85427474975586, 159.07986450195312], [150.78927612304688, 137.44505310058594, 183.7625274658203, 137.75765991210938, 183.40829467773438, 157.96148681640625, 150.53558349609375, 158.12013244628906], [202.75802612304688, 138.6915283203125, 240.3755645751953, 138.9130401611328, 239.9745330810547, 156.5657958984375, 202.32379150390625, 156.8258056640625], [259.19891357421875, 138.80294799804688, 294.97601318359375, 139.05157470703125, 294.842041015625, 156.8311767578125, 259.1883544921875, 156.9445037841797], [326.0442810058594, 141.37635803222656, 350.2439270019531, 141.59556579589844, 350.10125732421875, 157.75827026367188, 325.9236755371094, 157.8038787841797], [27.47422218322754, 162.15194702148438, 110.4875717163086, 162.2986297607422, 110.057373046875, 180.26162719726562, 27.209806442260742, 180.531494140625], [150.85401916503906, 159.94297790527344, 182.95208740234375, 160.18397521972656, 182.63760375976562, 179.72315979003906, 150.648193359375, 179.88604736328125], [202.8684539794922, 160.67774963378906, 237.54562377929688, 160.87930297851562, 237.29739379882812, 178.36715698242188, 202.64207458496094, 178.6426239013672], [259.1913146972656, 161.16416931152344, 295.751953125, 161.3878173828125, 295.669189453125, 179.0319061279297, 259.2426452636719, 179.17367553710938], [324.205810546875, 164.02041625976562, 351.31512451171875, 164.28326416015625, 351.2347717285156, 180.11160278320312, 324.1680908203125, 180.0999755859375], [30.014822006225586, 182.60910034179688, 112.08712005615234, 182.77932739257812, 111.67613983154297, 201.41250610351562, 29.72931671142578, 201.65232849121094], [152.13113403320312, 181.25669860839844, 185.16354370117188, 181.3458709716797, 184.7841033935547, 201.79591369628906, 151.85281372070312, 202.0372772216797], [204.4949951171875, 181.9586639404297, 239.0478057861328, 182.08059692382812, 238.7524871826172, 200.0740203857422, 204.1624298095703, 200.39649963378906], [259.9351806640625, 181.96058654785156, 296.9034118652344, 182.08360290527344, 296.8099365234375, 200.3316192626953, 259.9400634765625, 200.5299530029297], [323.60693359375, 184.78216552734375, 350.8670654296875, 184.97938537597656, 350.79833984375, 200.96730041503906, 323.62274169921875, 200.92433166503906], [32.54127502441406, 204.0707244873047, 114.26155853271484, 204.2586669921875, 113.8542251586914, 224.61874389648438, 32.2221794128418, 224.8135528564453], [153.35328674316406, 203.61402893066406, 184.54261779785156, 203.89117431640625, 184.12197875976562, 224.94178771972656, 153.0120086669922, 225.01039123535156], [206.71202087402344, 203.6249237060547, 239.98226928710938, 203.75299072265625, 239.60435485839844, 221.76736450195312, 206.28271484375, 222.06338500976562], [261.6434326171875, 203.54019165039062, 296.0940856933594, 203.6964569091797, 295.977294921875, 222.17433166503906, 261.596435546875, 222.36537170410156], [325.528564453125, 205.64501953125, 349.6437683105469, 205.83909606933594, 349.58148193359375, 221.54661560058594, 325.6022644042969, 221.5675048828125], [32.69321823120117, 225.7355499267578, 116.0557632446289, 226.0036163330078, 115.47974395751953, 246.31838989257812, 32.268218994140625, 246.44505310058594], [152.7675018310547, 224.85031127929688, 187.56915283203125, 225.2906951904297, 187.11138916015625, 247.3608856201172, 152.38934326171875, 247.30526733398438], [207.68955993652344, 224.5744171142578, 242.64122009277344, 224.8082275390625, 242.1544952392578, 242.5413055419922, 207.20147705078125, 242.76211547851562], [261.7055969238281, 224.5369873046875, 300.02947998046875, 224.78189086914062, 299.8966064453125, 243.13861083984375, 261.6903381347656, 243.26927185058594], [325.5967102050781, 226.73585510253906, 351.9095458984375, 227.07485961914062, 351.825927734375, 243.2670135498047, 325.6204833984375, 243.21347045898438], [28.869312286376953, 246.73509216308594, 117.05337524414062, 246.88031005859375, 116.60552215576172, 267.5077209472656, 28.448110580444336, 267.6846618652344], [151.3251495361328, 245.7272186279297, 193.90701293945312, 246.36572265625, 193.42886352539062, 272.6661071777344, 150.9449005126953, 272.36444091796875], [206.69630432128906, 245.6373291015625, 246.0234375, 245.8740234375, 245.4044952392578, 264.7474670410156, 206.04649353027344, 264.9299621582031], [260.4706726074219, 246.3649139404297, 299.0133056640625, 246.6527099609375, 298.8810119628906, 265.8722229003906, 260.5023498535156, 265.8678894042969], [321.2824401855469, 247.64439392089844, 356.09814453125, 248.00193786621094, 356.0198669433594, 266.56683349609375, 321.2467041015625, 266.41912841796875], [26.81222152709961, 266.00543212890625, 111.43798828125, 266.31597900390625, 110.71501922607422, 286.5500183105469, 26.382429122924805, 286.4988708496094], [149.12071228027344, 264.5914611816406, 190.95094299316406, 265.22039794921875, 190.48385620117188, 289.7433776855469, 148.64144897460938, 289.5242919921875], [206.5567626953125, 264.8973693847656, 244.99891662597656, 265.0885009765625, 244.3832550048828, 283.6672058105469, 205.95713806152344, 283.92584228515625], [260.34039306640625, 265.6808776855469, 297.866943359375, 265.9000549316406, 297.8060302734375, 285.242919921875, 260.5165710449219, 285.34234619140625], [318.3760986328125, 266.99188232421875, 357.09716796875, 267.264404296875, 357.0699768066406, 286.72491455078125, 318.5380859375, 286.6187744140625], [20.496774673461914, 287.583251953125, 113.6926040649414, 287.9540100097656, 113.00865173339844, 309.7986755371094, 20.081371307373047, 309.5643005371094], [147.21575927734375, 286.3388671875, 189.61276245117188, 286.8757629394531, 189.2399139404297, 309.3264465332031, 146.684814453125, 309.1173400878906], [205.30093383789062, 285.9009094238281, 244.37808227539062, 286.0666198730469, 243.91334533691406, 304.88909912109375, 204.75619506835938, 305.10675048828125], [259.83990478515625, 286.40118408203125, 298.3064270019531, 286.6422119140625, 298.32073974609375, 305.3643798828125, 260.1037292480469, 305.39837646484375], [320.6863098144531, 287.55645751953125, 355.31976318359375, 287.89324951171875, 355.279541015625, 306.7061767578125, 320.8592224121094, 306.56195068359375], [9.670042037963867, 315.34283447265625, 123.45520782470703, 316.0981750488281, 122.9952163696289, 339.6360778808594, 9.432231903076172, 339.25555419921875], [144.48440551757812, 316.01531982421875, 192.47579956054688, 316.6744384765625, 192.32476806640625, 337.74310302734375, 144.2403564453125, 337.464111328125], [201.25209045410156, 315.2539978027344, 246.07408142089844, 315.59759521484375, 245.6173858642578, 334.4831848144531, 200.68789672851562, 334.4831848144531], [257.9992980957031, 315.57781982421875, 301.0218505859375, 315.9014892578125, 301.11346435546875, 334.9972229003906, 258.2967834472656, 334.95819091796875], [318.4444885253906, 316.2197265625, 358.41546630859375, 316.50494384765625, 358.41632080078125, 334.8359375, 318.69281005859375, 334.7912902832031], [15.205977439880371, 330.66461181640625, 118.69219207763672, 331.3515625, 118.75346374511719, 352.1010437011719, 15.006183624267578, 351.7920837402344], [143.8634490966797, 331.0529479980469, 190.873046875, 331.6758728027344, 190.9134521484375, 352.22784423828125, 143.8477325439453, 351.9915771484375], [201.47787475585938, 331.3990478515625, 242.47402954101562, 331.7087097167969, 241.97665405273438, 350.4718017578125, 200.80433654785156, 350.4280090332031], [258.99591064453125, 331.72705078125, 297.7046813964844, 331.94012451171875, 297.6482849121094, 350.8490905761719, 259.08526611328125, 350.8317565917969], [317.89337158203125, 332.4515075683594, 356.7556457519531, 332.5376281738281, 356.7833557128906, 350.6829528808594, 318.2436828613281, 350.7126770019531]], 'html': '<html><body><table><thead><tr><td>Methods</td><td>R</td><td>P</td><td>F</td><td>FPS</td></tr></thead><tbody><tr><td>SegLink [26]</td><td>70.0 73.2</td><td>86.0</td><td>77.0 77.8</td><td>8.9</td></tr><tr><td>PixelLink [4] TextSnake [18]</td><td>73.9</td><td>83.0 83.2</td><td>78.3</td><td>- 1.1</td></tr><tr><td>TextField [37]</td><td>75.9</td><td>87.4</td><td>81.3</td><td>5.2</td></tr><tr><td>MSR[38]</td><td>76.7</td><td>87.4</td><td>81.7</td><td>-</td></tr><tr><td>FTSN [3]</td><td>77.1</td><td>87.6</td><td>82.0</td><td>-</td></tr><tr><td>LSE[30] CRAFT [2]</td><td>81.7 78.2</td><td>84.2 88.2</td><td>82.9 82.9</td><td>- 8.6</td></tr><tr><td>MCN [16]</td><td>79</td><td>88</td><td>83</td><td>-</td></tr><tr><td>ATRR[35]</td><td>82.1</td><td>85.2</td><td>83.6</td><td>-</td></tr><tr><td>PAN [34]</td><td>83.8</td><td>84.4</td><td>84.1</td><td>30.2</td></tr><tr><td>DB[12]</td><td>79.2</td><td>91.5</td><td>84.9</td><td>32.0</td></tr><tr><td>DRRG [41] Ours (SynText)</td><td>82.30 80.68</td><td>88.05</td><td>85.08 82.97</td><td>- 12.68</td></tr><tr><td>Ours (MLT-17)</td><td>84.54</td><td>85.40 86.62</td><td>85.57</td><td>12.31</td></tr><tr><td></td><td></td><td></td><td></td><td></td></tr><tr><td></td><td></td><td></td><td></td><td></td></tr><tr><td></td><td></td><td></td><td></td><td></td></tr></tbody></table></body></html>'}, 'img_idx': 0, 'score': 0.9647144079208374}\n",
      "{'type': 'table', 'bbox': [12, 360, 410, 716], 'res': {'cell_bbox': [[36.285430908203125, 8.298195838928223, 120.45591735839844, 8.423277854919434, 120.5091781616211, 23.613697052001953, 35.78130340576172, 23.476255416870117], [146.39810180664062, 6.972477912902832, 181.86721801757812, 6.954538345336914, 183.5493927001953, 24.389331817626953, 147.76646423339844, 24.691482543945312], [204.21725463867188, 6.1181488037109375, 232.84295654296875, 6.097630023956299, 234.3572540283203, 24.306373596191406, 205.5713653564453, 24.652421951293945], [257.97027587890625, 6.414078712463379, 281.7972106933594, 6.378748416900635, 283.713623046875, 22.515649795532227, 259.98828125, 22.81123924255371], [309.56610107421875, 6.42161226272583, 334.0521545410156, 6.445102214813232, 334.95770263671875, 22.43368148803711, 310.7884826660156, 22.511770248413086], [360.2051696777344, 6.709234237670898, 385.8355712890625, 6.729775905609131, 385.9518737792969, 22.91281509399414, 360.5616149902344, 23.003063201904297], [22.427143096923828, 30.295448303222656, 119.74323272705078, 29.91337776184082, 119.23871612548828, 46.543087005615234, 21.944231033325195, 46.75287628173828], [152.08090209960938, 27.568822860717773, 187.45838928222656, 27.648534774780273, 188.1002655029297, 48.114479064941406, 152.2669219970703, 47.99552917480469], [208.03488159179688, 27.672758102416992, 243.6359405517578, 27.671886444091797, 243.52218627929688, 46.118160247802734, 207.73497009277344, 46.195838928222656], [251.67575073242188, 28.50783920288086, 286.1299133300781, 28.56633186340332, 286.46063232421875, 45.47511672973633, 251.84950256347656, 45.45089340209961], [306.6339111328125, 28.668378829956055, 339.0968322753906, 28.742835998535156, 339.1280517578125, 45.87324905395508, 306.79693603515625, 45.803287506103516], [359.2392578125, 29.40364646911621, 390.72039794921875, 29.320009231567383, 390.685302734375, 47.109310150146484, 359.2666320800781, 47.2228889465332], [30.197404861450195, 49.48107147216797, 119.7427749633789, 49.20707321166992, 119.79362487792969, 64.71393585205078, 30.22641944885254, 65.02671813964844], [153.00222778320312, 46.741920471191406, 185.99234008789062, 46.860469818115234, 186.49851989746094, 67.46604919433594, 153.70050048828125, 67.40921783447266], [207.28599548339844, 46.69342803955078, 241.07359313964844, 46.70598602294922, 240.9246826171875, 65.10765838623047, 207.2686767578125, 65.32363891601562], [254.19021606445312, 47.51275634765625, 286.373291015625, 47.65999984741211, 286.3862609863281, 64.29705047607422, 254.3024444580078, 64.26063537597656], [306.5051574707031, 47.695472717285156, 338.5699157714844, 47.91698455810547, 338.41973876953125, 64.57847595214844, 306.42608642578125, 64.34852600097656], [358.34161376953125, 48.25436782836914, 389.9948425292969, 48.267940521240234, 389.9143371582031, 65.97478485107422, 358.18048095703125, 65.9022445678711], [31.417869567871094, 69.53184509277344, 123.16911315917969, 69.37926483154297, 122.7560806274414, 85.06768035888672, 31.239107131958008, 85.2732925415039], [155.37461853027344, 66.36861419677734, 186.61343383789062, 66.5956802368164, 186.7549591064453, 87.69437408447266, 155.6522216796875, 87.57955932617188], [209.54855346679688, 66.3885726928711, 240.7096405029297, 66.36724090576172, 240.38609313964844, 84.4932632446289, 209.35272216796875, 84.82964324951172], [254.49949645996094, 67.069580078125, 285.4171447753906, 67.2148666381836, 285.33245849609375, 83.76495361328125, 254.4668426513672, 83.74790954589844], [306.4449768066406, 67.14312744140625, 336.9220275878906, 67.34851837158203, 336.758544921875, 83.99009704589844, 306.3419494628906, 83.78466796875], [357.8801574707031, 67.64361572265625, 387.374267578125, 67.60964965820312, 387.2778625488281, 85.28520202636719, 357.74053955078125, 85.32623291015625], [27.46872901916504, 87.8034439086914, 119.59708404541016, 87.82636260986328, 119.11555480957031, 104.4616928100586, 27.18113136291504, 104.65544128417969], [155.6354217529297, 85.19213104248047, 186.6645965576172, 85.4777603149414, 186.69918823242188, 106.33931732177734, 155.57815551757812, 106.32503509521484], [209.2096405029297, 85.14190673828125, 240.98757934570312, 85.1639404296875, 240.6916961669922, 103.14533233642578, 208.9888458251953, 103.57347869873047], [254.33856201171875, 85.90772247314453, 286.6331481933594, 86.10444641113281, 286.4527893066406, 102.73929595947266, 254.21237182617188, 102.7981185913086], [306.7927551269531, 86.27349090576172, 337.13275146484375, 86.65779113769531, 336.86981201171875, 102.88013458251953, 306.5812072753906, 102.60075378417969], [360.6081237792969, 87.81151580810547, 385.5104064941406, 87.8584213256836, 385.4286193847656, 105.41536712646484, 360.51031494140625, 105.4392318725586], [19.903011322021484, 106.88291931152344, 122.01545715332031, 107.00434112548828, 121.59496307373047, 125.28530883789062, 19.63021469116211, 125.5137939453125], [156.24063110351562, 104.66498565673828, 187.67481994628906, 104.8203353881836, 187.5421600341797, 124.98680877685547, 155.942626953125, 125.14997100830078], [209.6177520751953, 104.61503601074219, 241.6463165283203, 104.62425994873047, 241.38560485839844, 122.85291290283203, 209.373779296875, 123.37442779541016], [254.13046264648438, 105.24449920654297, 287.2745666503906, 105.38038635253906, 287.0369873046875, 122.32321166992188, 253.98387145996094, 122.50030517578125], [307.23681640625, 105.69115447998047, 337.463623046875, 106.03508758544922, 337.1728210449219, 122.30752563476562, 306.9723205566406, 122.15054321289062], [358.9051513671875, 107.10350036621094, 385.46624755859375, 107.11223602294922, 385.38665771484375, 124.74100494384766, 358.8141784667969, 124.83660125732422], [24.559249877929688, 127.66213989257812, 118.63009643554688, 127.68324279785156, 118.28511047363281, 144.48251342773438, 24.26039695739746, 144.7895965576172], [156.67312622070312, 125.19361877441406, 186.7218017578125, 125.4071044921875, 186.5488739013672, 144.99594116210938, 156.35223388671875, 145.11273193359375], [210.12115478515625, 125.2638168334961, 240.4321746826172, 125.3062744140625, 240.18505859375, 142.927734375, 209.86236572265625, 143.42066955566406], [254.29486083984375, 125.5242691040039, 285.94744873046875, 125.69379425048828, 285.7339782714844, 142.760009765625, 254.15834045410156, 142.91888427734375], [306.0954284667969, 125.71134948730469, 336.8619689941406, 125.98159790039062, 336.6263427734375, 142.82098388671875, 305.8644714355469, 142.74758911132812], [355.17742919921875, 126.54381561279297, 386.6523132324219, 126.67281341552734, 386.5487060546875, 145.00387573242188, 354.98974609375, 144.99330139160156], [26.818519592285156, 147.7245635986328, 121.24667358398438, 147.9558563232422, 120.96469116210938, 164.76890563964844, 26.52307891845703, 164.84036254882812], [155.9608154296875, 145.6387176513672, 188.0840301513672, 146.0833740234375, 187.98263549804688, 165.8493194580078, 155.75588989257812, 165.82833862304688], [209.98902893066406, 145.6973114013672, 240.26565551757812, 145.86251831054688, 240.08155822753906, 163.45028686523438, 209.75865173339844, 163.91746520996094], [254.29592895507812, 145.93182373046875, 285.9715270996094, 146.22921752929688, 285.73065185546875, 163.16746520996094, 254.07421875, 163.29266357421875], [305.4050598144531, 146.23333740234375, 337.0065002441406, 146.57562255859375, 336.8152160644531, 163.61331176757812, 305.18585205078125, 163.5048065185547], [353.6051330566406, 146.99964904785156, 385.88812255859375, 147.253662109375, 385.7801208496094, 165.26080322265625, 353.42742919921875, 165.18978881835938], [22.83955192565918, 168.3917694091797, 129.18356323242188, 168.6714324951172, 128.8829345703125, 185.9534912109375, 22.55193519592285, 185.9539337158203], [155.96383666992188, 166.16502380371094, 189.15260314941406, 166.62322998046875, 189.0680694580078, 186.33718872070312, 155.7672119140625, 186.3210906982422], [210.2310028076172, 166.19129943847656, 240.85984802246094, 166.41966247558594, 240.64422607421875, 184.1794891357422, 209.9919891357422, 184.59877014160156], [254.5501708984375, 166.438720703125, 287.17193603515625, 166.69671630859375, 286.9344177246094, 183.52488708496094, 254.35133361816406, 183.67208862304688], [306.0564880371094, 166.67420959472656, 337.5481872558594, 167.0115509033203, 337.34661865234375, 183.65606689453125, 305.79742431640625, 183.5832061767578], [353.5728454589844, 167.51724243164062, 386.8167724609375, 167.8089599609375, 386.727783203125, 185.523193359375, 353.45751953125, 185.4340057373047], [30.063804626464844, 187.44728088378906, 121.68603515625, 187.4702606201172, 121.41596221923828, 204.57965087890625, 29.72702407836914, 204.81393432617188], [156.94752502441406, 185.59210205078125, 189.05686950683594, 186.09201049804688, 189.0050506591797, 206.07803344726562, 156.78408813476562, 205.94253540039062], [210.90203857421875, 185.80690002441406, 241.183349609375, 186.06509399414062, 241.0366973876953, 203.63050842285156, 210.7647247314453, 203.91090393066406], [255.4324188232422, 185.82118225097656, 287.3366394042969, 186.14569091796875, 287.1443176269531, 202.89614868164062, 255.31903076171875, 202.90481567382812], [306.281005859375, 185.74842834472656, 338.3172912597656, 186.175048828125, 338.1326599121094, 202.61444091796875, 306.0550842285156, 202.42669677734375], [353.9791259765625, 187.14735412597656, 389.32635498046875, 187.521728515625, 389.2786560058594, 205.14984130859375, 353.98883056640625, 204.9016571044922], [30.390329360961914, 207.5737762451172, 121.89786529541016, 207.71656799316406, 121.47566986083984, 225.0421905517578, 30.041748046875, 225.1488494873047], [157.104736328125, 205.43719482421875, 190.7142791748047, 206.0862274169922, 190.65533447265625, 225.4802703857422, 156.9608154296875, 225.26968383789062], [210.93421936035156, 205.26834106445312, 242.544677734375, 205.58250427246094, 242.3488006591797, 222.73306274414062, 210.77186584472656, 222.98484802246094], [256.4974060058594, 205.51002502441406, 287.643310546875, 205.88780212402344, 287.4307556152344, 222.39041137695312, 256.3258056640625, 222.39865112304688], [307.4210510253906, 205.82247924804688, 338.9630432128906, 206.39064025878906, 338.782958984375, 222.43234252929688, 307.2034606933594, 222.1716766357422], [358.69921875, 208.36685180664062, 386.90338134765625, 208.6653289794922, 386.8788757324219, 225.02713012695312, 358.7993469238281, 224.86953735351562], [28.903427124023438, 227.47589111328125, 123.34147644042969, 227.579345703125, 122.96361541748047, 245.1247100830078, 28.57351303100586, 245.30946350097656], [159.1561279296875, 225.96673583984375, 192.58856201171875, 226.66387939453125, 192.56680297851562, 247.10479736328125, 158.94590759277344, 246.84909057617188], [212.287109375, 225.52427673339844, 243.1013946533203, 225.9048614501953, 242.87109375, 243.42483520507812, 212.09576416015625, 243.5685272216797], [257.7835693359375, 225.7847442626953, 288.4339294433594, 226.20840454101562, 288.2219543457031, 242.4475555419922, 257.6288757324219, 242.36915588378906], [308.6285400390625, 226.0596160888672, 339.3149108886719, 226.7156982421875, 339.1656494140625, 242.4703826904297, 308.4505310058594, 242.11460876464844], [357.7017517089844, 227.9560089111328, 387.5359191894531, 228.33547973632812, 387.50775146484375, 244.56446838378906, 357.76446533203125, 244.32679748535156], [23.72072410583496, 245.64053344726562, 124.8712387084961, 245.85951232910156, 124.67110443115234, 264.35931396484375, 23.455808639526367, 264.4585876464844], [161.94094848632812, 244.16180419921875, 191.01637268066406, 244.96658325195312, 191.02622985839844, 267.572265625, 161.7863006591797, 267.2510986328125], [212.72714233398438, 244.4109344482422, 243.3706817626953, 244.8686981201172, 243.0536651611328, 263.5445861816406, 212.43728637695312, 263.6108093261719], [258.01495361328125, 244.71572875976562, 289.5356140136719, 245.210693359375, 289.1990051269531, 261.71893310546875, 257.7635192871094, 261.55889892578125], [308.4171447753906, 245.1430206298828, 338.8658447265625, 245.80636596679688, 338.6505126953125, 262.0411682128906, 308.16943359375, 261.6373291015625], [356.853515625, 246.4864959716797, 390.8516845703125, 247.04782104492188, 390.81201171875, 264.286865234375, 356.8459167480469, 263.8185119628906], [17.628799438476562, 267.9853210449219, 122.82408905029297, 268.2596435546875, 122.52857971191406, 286.682373046875, 17.416221618652344, 286.5782775878906], [161.71612548828125, 265.1581726074219, 191.11807250976562, 265.857177734375, 191.17726135253906, 288.4173278808594, 161.62677001953125, 288.0930480957031], [211.7642059326172, 264.9461364746094, 244.0559539794922, 265.3113098144531, 243.7850799560547, 284.15472412109375, 211.53457641601562, 284.215087890625], [256.9239196777344, 265.0692138671875, 290.35577392578125, 265.469482421875, 290.04718017578125, 282.3394470214844, 256.7003173828125, 282.22998046875], [307.0141906738281, 265.745849609375, 339.7403564453125, 266.2495422363281, 339.5399169921875, 282.8292236328125, 306.78289794921875, 282.5002746582031], [357.3091735839844, 267.0959777832031, 390.06378173828125, 267.3746643066406, 390.0372009277344, 285.2313232421875, 357.3690185546875, 284.9317626953125], [17.779680252075195, 289.2001647949219, 128.52398681640625, 289.5491638183594, 128.12240600585938, 308.3253173828125, 17.54265594482422, 308.08038330078125], [162.0823974609375, 286.4683837890625, 192.42120361328125, 287.13470458984375, 192.4583740234375, 309.0975036621094, 161.7987060546875, 308.7868347167969], [211.3147735595703, 286.07904052734375, 249.0357666015625, 286.4292907714844, 248.7342529296875, 305.9027099609375, 210.97314453125, 305.9604797363281], [256.5799865722656, 286.1737365722656, 291.5391845703125, 286.5318298339844, 291.2752380371094, 303.92022705078125, 256.3580017089844, 303.8554992675781], [307.6272888183594, 286.480712890625, 341.39794921875, 287.04254150390625, 341.19415283203125, 303.9149475097656, 307.42034912109375, 303.5632629394531], [359.4171447753906, 287.4800720214844, 388.4090576171875, 287.8160095214844, 388.4022216796875, 305.3834533691406, 359.5760192871094, 305.07440185546875], [15.233530044555664, 311.0387268066406, 128.99832153320312, 311.3538513183594, 128.5679931640625, 328.5149841308594, 14.983948707580566, 328.2533874511719], [160.66793823242188, 309.1153869628906, 188.91880798339844, 309.7109375, 189.0535888671875, 329.1985168457031, 160.3028564453125, 328.9223327636719], [211.48704528808594, 308.32537841796875, 246.22384643554688, 308.5611877441406, 245.92715454101562, 326.0537414550781, 211.12193298339844, 326.2038879394531], [256.72479248046875, 307.7750549316406, 291.2797546386719, 308.0851745605469, 291.0584716796875, 323.8971252441406, 256.6305236816406, 323.87310791015625], [307.522705078125, 307.5829162597656, 343.28759765625, 308.0908508300781, 343.0482482910156, 324.2603759765625, 307.2835693359375, 324.00970458984375], [359.6100158691406, 308.0894470214844, 388.5140075683594, 308.39862060546875, 388.5021057128906, 324.8094482421875, 359.7322998046875, 324.6346740722656], [44.51504135131836, 335.15509033203125, 108.36580657958984, 335.2119445800781, 108.08167266845703, 350.5779724121094, 44.13322830200195, 350.6058654785156], [160.39454650878906, 334.881591796875, 186.59158325195312, 335.14837646484375, 187.09759521484375, 350.330810546875, 160.9272918701172, 350.2938232421875], [208.3588409423828, 333.97857666015625, 248.99874877929688, 333.9239501953125, 249.2637481689453, 348.45672607421875, 208.79345703125, 348.72491455078125], [253.85714721679688, 332.91241455078125, 293.2134704589844, 332.8716735839844, 293.52337646484375, 347.7151794433594, 254.43052673339844, 347.9466247558594], [306.1416931152344, 332.8683776855469, 343.4081726074219, 332.87646484375, 343.4764099121094, 347.87127685546875, 306.3667907714844, 348.0293273925781], [353.91107177734375, 333.1750793457031, 390.6549377441406, 332.9222106933594, 390.6543273925781, 347.916015625, 354.0141906738281, 348.22125244140625], [44.47538375854492, 352.2065124511719, 105.67308044433594, 352.42169189453125, 105.53300476074219, 369.3511047363281, 44.396522521972656, 369.2613830566406], [154.85340881347656, 351.15679931640625, 187.6739044189453, 351.4970397949219, 188.3096466064453, 369.1945495605469, 155.76058959960938, 369.1626892089844], [207.9571533203125, 350.7126770019531, 247.21055603027344, 350.7796325683594, 247.32192993164062, 368.0872497558594, 208.29544067382812, 368.282470703125], [254.228271484375, 350.60699462890625, 291.0032653808594, 350.5996398925781, 291.1075134277344, 367.4684753417969, 254.6473388671875, 367.6644592285156], [305.12591552734375, 351.0311279296875, 341.4469909667969, 351.0040588378906, 341.5230407714844, 367.2412109375, 305.33978271484375, 367.41583251953125], [353.7366027832031, 351.8791198730469, 391.3555603027344, 351.6335144042969, 391.3890075683594, 367.0467224121094, 354.0978088378906, 367.3034973144531], [43.15382385253906, 369.92291259765625, 104.0579605102539, 370.1701965332031, 104.59162902832031, 386.3494873046875, 43.331050872802734, 386.1911315917969], [151.83453369140625, 369.7630615234375, 189.3928680419922, 370.06512451171875, 190.90419006347656, 386.0794982910156, 153.16464233398438, 385.9789733886719], [207.7955322265625, 369.8949279785156, 246.17613220214844, 369.92327880859375, 247.05499267578125, 385.5560607910156, 208.7572784423828, 385.59515380859375], [255.2574462890625, 369.7892150878906, 289.35198974609375, 369.7748718261719, 290.1022033691406, 385.2698059082031, 256.243408203125, 385.3127136230469], [305.8844299316406, 369.77923583984375, 341.093994140625, 369.73236083984375, 341.31378173828125, 385.0589294433594, 306.190185546875, 385.1173095703125], [355.0755615234375, 369.9194030761719, 392.2081298828125, 369.66162109375, 392.2516174316406, 384.9425964355469, 355.5140686035156, 385.070556640625]], 'html': '<html><body><table><thead><tr><td>Methods</td><td>Ext</td><td>R</td><td>P</td><td>F</td><td>FPS</td></tr></thead><tbody><tr><td>TextSnake [18]</td><td>Syn</td><td>85.3</td><td>67.9</td><td>75.6</td><td>-</td></tr><tr><td>CSE [17]</td><td>MLT</td><td>76.1</td><td>78.7</td><td>77.4</td><td>0.38</td></tr><tr><td>LOMO[40] ATRR[35]</td><td>Syn Sy-</td><td>76.5</td><td>85.7</td><td>80.8</td><td>4.4</td></tr><tr><td>SegLink++[28]</td><td>Syn</td><td>80.2 79.8</td><td>80.1 82.8</td><td>80.1 81.3</td><td></td></tr><tr><td>TextField [37]</td><td>Syn</td><td>79.8</td><td>83.0</td><td>81.4</td><td>6.0</td></tr><tr><td>MSR[38]</td><td>Syn</td><td>79.0</td><td>84.1</td><td>81.5</td><td>4.3</td></tr><tr><td>PSENet-1s [33]</td><td>MLT</td><td>79.7</td><td>84.8</td><td>82.2</td><td>3.9</td></tr><tr><td>DB [12]</td><td>Syn</td><td>80.2</td><td>86.9</td><td>83.4</td><td>22.0</td></tr><tr><td>CRAFT [2]</td><td>Syn</td><td>81.1</td><td>86.0</td><td>83.5</td><td></td></tr><tr><td>TextDragon [5]</td><td>MLT+</td><td>82.8</td><td>84.5</td><td>83.6</td><td></td></tr><tr><td>PAN [34]</td><td>Syn</td><td>81.2</td><td>86.4</td><td>83.7</td><td>39.8</td></tr><tr><td>ContourNet [36] DRRG [41]</td><td>- MLT</td><td>84.1</td><td>83.7</td><td>83.9</td><td>4.5</td></tr><tr><td>TextPerception[23]</td><td>Syn</td><td>83.02 81.9</td><td>85.93 87.5</td><td>84.45 84.6</td><td>- -</td></tr><tr><td>Ours</td><td>·</td><td>80.57</td><td>87.66</td><td>83.97</td><td>12.08</td></tr><tr><td>Ours</td><td>Syn</td><td>81.45</td><td>87.81</td><td>84.51</td><td>12.15</td></tr><tr><td>Ours</td><td>MLT</td><td>83.608</td><td>86.45</td><td>85.00</td><td>12.21</td></tr><tr><td></td><td></td><td></td><td></td><td></td><td></td></tr><tr><td></td><td></td><td></td><td></td><td></td><td></td></tr></tbody></table></body></html>'}, 'img_idx': 0, 'score': 0.9603001475334167}\n"
     ]
    }
   ],
   "source": [
    "import os\n",
    "import cv2\n",
    "from paddleocr import PPStructure,draw_structure_result,save_structure_res\n",
    "\n",
    "# PPStructure consist of layout analysis model, text detection model, text recognition model and form recognition model\n",
    "# check model zoo at https://paddlepaddle.github.io/PaddleOCR/latest/en/ppstructure/models_list.html\n",
    "# for more uses and settings, see https://paddlepaddle.github.io/PaddleOCR/latest/en/ppstructure/quick_start.html#223-layout-analysis\n",
    "# This time, segregate the input image into images, texts and tables\n",
    "table_engine = PPStructure(show_log=True, image_orientation=False)\n",
    "\n",
    "save_folder = './output'\n",
    "img_path = './PaddleOCR/tests/test_files/ppstructure/1.png'\n",
    "img = cv2.imread(img_path)\n",
    "result = table_engine(img)\n",
    "save_structure_res(result, save_folder,os.path.basename(img_path).split('.')[0])\n",
    "\n",
    "for line in result:\n",
    "    line.pop('img')\n",
    "    print(line)\n",
    "\n",
    "from PIL import Image\n",
    "\n",
    "font_path = \"./PaddleOCR/doc/fonts/simfang.ttf\"\n",
    "image = Image.open(img_path).convert('RGB')\n",
    "im_show = draw_structure_result(image, result,font_path=font_path)\n",
    "im_show = Image.fromarray(im_show)\n",
    "save_path = os.path.join(save_folder, 'result.jpg')\n",
    "im_show.save(save_path)"
   ]
  },
  {
   "cell_type": "code",
   "execution_count": 15,
   "metadata": {
    "scrolled": true
   },
   "outputs": [
    {
     "name": "stdout",
     "output_type": "stream",
     "text": [
      "[2025/04/29 18:29:53] ppocr DEBUG: Namespace(help='==SUPPRESS==', use_gpu=False, use_xpu=False, use_npu=False, use_mlu=False, use_gcu=False, ir_optim=True, use_tensorrt=False, min_subgraph_size=15, precision='fp32', gpu_mem=500, gpu_id=0, image_dir=None, page_num=0, det_algorithm='DB', det_model_dir='/home/z890/.paddleocr/whl/det/en/en_PP-OCRv3_det_infer', det_limit_side_len=960, det_limit_type='max', det_box_type='quad', det_db_thresh=0.3, det_db_box_thresh=0.6, det_db_unclip_ratio=1.5, max_batch_size=10, use_dilation=False, det_db_score_mode='fast', det_east_score_thresh=0.8, det_east_cover_thresh=0.1, det_east_nms_thresh=0.2, det_sast_score_thresh=0.5, det_sast_nms_thresh=0.2, det_pse_thresh=0, det_pse_box_thresh=0.85, det_pse_min_area=16, det_pse_scale=1, scales=[8, 16, 32], alpha=1.0, beta=1.0, fourier_degree=5, rec_algorithm='SVTR_LCNet', rec_model_dir='/home/z890/.paddleocr/whl/rec/en/en_PP-OCRv4_rec_infer', rec_image_inverse=True, rec_image_shape='3, 48, 320', rec_batch_num=6, max_text_length=25, rec_char_dict_path='/home/z890/Downloads/new padd/PaddleOCR/ppocr/utils/en_dict.txt', use_space_char=True, vis_font_path='./doc/fonts/simfang.ttf', drop_score=0.5, e2e_algorithm='PGNet', e2e_model_dir=None, e2e_limit_side_len=768, e2e_limit_type='max', e2e_pgnet_score_thresh=0.5, e2e_char_dict_path='./ppocr/utils/ic15_dict.txt', e2e_pgnet_valid_set='totaltext', e2e_pgnet_mode='fast', use_angle_cls=False, cls_model_dir=None, cls_image_shape='3, 48, 192', label_list=['0', '180'], cls_batch_num=6, cls_thresh=0.9, enable_mkldnn=False, cpu_threads=10, use_pdserving=False, warmup=False, sr_model_dir=None, sr_image_shape='3, 32, 128', sr_batch_num=1, draw_img_save_dir='./inference_results', save_crop_res=False, crop_res_save_dir='./output', use_mp=False, total_process_num=1, process_id=0, benchmark=False, save_log_path='./log_output/', show_log=True, use_onnx=False, onnx_providers=False, onnx_sess_options=False, return_word_box=False, output='./output', table_max_len=488, table_algorithm='TableAttn', table_model_dir='/home/z890/.paddleocr/whl/table/en_ppstructure_mobile_v2.0_SLANet_infer', merge_no_span_structure=True, table_char_dict_path='/home/z890/Downloads/new padd/PaddleOCR/ppocr/utils/dict/table_structure_dict.txt', formula_algorithm='LaTeXOCR', formula_model_dir='/home/z890/.paddleocr/whl/formula/rec_latex_ocr_infer', formula_char_dict_path='/home/z890/Downloads/new padd/PaddleOCR/ppocr/utils/dict/latex_ocr_tokenizer.json', formula_batch_num=1, layout_model_dir='/home/z890/.paddleocr/whl/layout/picodet_lcnet_x1_0_fgd_layout_infer', layout_dict_path='/home/z890/Downloads/new padd/PaddleOCR/ppocr/utils/dict/layout_dict/layout_publaynet_dict.txt', layout_score_threshold=0.5, layout_nms_threshold=0.5, kie_algorithm='LayoutXLM', ser_model_dir=None, re_model_dir=None, use_visual_backbone=True, ser_dict_path='../train_data/XFUND/class_list_xfun.txt', ocr_order_method=None, mode='structure', image_orientation=False, layout=True, table=True, formula=False, ocr=True, recovery=True, recovery_to_markdown=False, use_pdf2docx_api=False, invert=False, binarize=False, alphacolor=(255, 255, 255), lang='en', det=True, rec=True, type='ocr', savefile=False, ocr_version='PP-OCRv4', structure_version='PP-StructureV2')\n",
      "[2025/04/29 18:29:54] ppocr DEBUG: dt_boxes num : 85, elapsed : 0.12894463539123535\n",
      "[2025/04/29 18:29:59] ppocr DEBUG: rec_res num  : 85, elapsed : 5.261410236358643\n",
      "{'type': 'text', 'bbox': [75, 481, 403, 694], 'res': [{'text': 'In the video-to-mage translation experiment Fg.5 a-', 'confidence': 0.8656037449836731, 'text_region': [[91.0, 484.0], [399.0, 484.0], [399.0, 495.0], [91.0, 495.0]]}, {'text': 'b-d-(f on the Celeb face dataset,Model1 can often', 'confidence': 0.867419421672821, 'text_region': [[74.0, 499.0], [401.0, 499.0], [401.0, 514.0], [74.0, 514.0]]}, {'text': 'translate plausible faces between images and videos,but the', 'confidence': 0.9032921195030212, 'text_region': [[77.0, 517.0], [400.0, 517.0], [400.0, 529.0], [77.0, 529.0]]}, {'text': 'identity information is not kept during translation like the', 'confidence': 0.9586869478225708, 'text_region': [[75.0, 532.0], [401.0, 532.0], [401.0, 547.0], [75.0, 547.0]]}, {'text': 'fourth and the fifth samples.While Model2 can address the', 'confidence': 0.8980271220207214, 'text_region': [[74.0, 548.0], [401.0, 548.0], [401.0, 563.0], [74.0, 563.0]]}, {'text': 'problem t some extent, it still fails in sme cases like the', 'confidence': 0.8518441319465637, 'text_region': [[77.0, 565.0], [400.0, 565.0], [400.0, 577.0], [77.0, 577.0]]}, {'text': '5-th facial sample whose mouth is occluded by a meld', 'confidence': 0.9068423509597778, 'text_region': [[75.0, 581.0], [399.0, 581.0], [399.0, 593.0], [75.0, 593.0]]}, {'text': 'ica. Thanks to imposing the facial identity lss. Model3', 'confidence': 0.9176740050315857, 'text_region': [[74.0, 596.0], [401.0, 596.0], [401.0, 611.0], [74.0, 611.0]]}, {'text': 'can maintain the identity better in the proce ss of face trans-', 'confidence': 0.9162497520446777, 'text_region': [[75.0, 615.0], [400.0, 615.0], [400.0, 626.0], [75.0, 626.0]]}, {'text': 'lation. Similar observation can be achieved on the PaSC', 'confidence': 0.9115338921546936, 'text_region': [[74.0, 628.0], [400.0, 628.0], [400.0, 643.0], [74.0, 643.0]]}, {'text': 'faoe dataset by comparing the translated facial samples.es-', 'confidence': 0.9307593703269958, 'text_region': [[74.0, 646.0], [400.0, 646.0], [400.0, 661.0], [74.0, 661.0]]}, {'text': 'pecially the first and the fourth samples that are shown in', 'confidence': 0.9475017189979553, 'text_region': [[75.0, 663.0], [403.0, 663.0], [403.0, 678.0], [75.0, 678.0]]}, {'text': 'aHb-d-f', 'confidence': 0.7321144938468933, 'text_region': [[75.0, 680.0], [157.0, 680.0], [157.0, 693.0], [75.0, 693.0]]}], 'img_idx': 0, 'score': 0.9904006123542786}\n",
      "{'type': 'text', 'bbox': [430, 822, 759, 986], 'res': [{'text': 'This paper presented a new problem of unpaired face', 'confidence': 0.9464805722236633, 'text_region': [[447.0, 822.0], [758.0, 822.0], [758.0, 838.0], [447.0, 838.0]]}, {'text': 'translation berween static images and dynanic videos', 'confidence': 0.9204977750778198, 'text_region': [[429.0, 840.0], [758.0, 840.0], [758.0, 854.0], [429.0, 854.0]]}, {'text': 'which can beapplied to video face prediction and enhance-', 'confidence': 0.926501452922821, 'text_region': [[432.0, 858.0], [755.0, 858.0], [755.0, 869.0], [432.0, 869.0]]}, {'text': 'ment. To handle the problem, we proposed a cyelic image-', 'confidence': 0.9131917953491211, 'text_region': [[430.0, 873.0], [757.0, 873.0], [757.0, 888.0], [430.0, 888.0]]}, {'text': 'video translation model to bidirectionally trans late faces be-', 'confidence': 0.9356391429901123, 'text_region': [[430.0, 889.0], [757.0, 889.0], [757.0, 904.0], [430.0, 904.0]]}, {'text': 'ween images and videas in a nified GAN model. To bet-', 'confidence': 0.9184368848800659, 'text_region': [[429.0, 906.0], [757.0, 906.0], [757.0, 921.0], [429.0, 921.0]]}, {'text': 'ter preserve the identity during translation, we additionally', 'confidence': 0.91547030210495, 'text_region': [[430.0, 922.0], [757.0, 922.0], [757.0, 937.0], [430.0, 937.0]]}, {'text': 'introduce a.face verification mode that ensures tomnain', 'confidence': 0.896833062171936, 'text_region': [[430.0, 940.0], [755.0, 940.0], [755.0, 952.0], [430.0, 952.0]]}, {'text': 'tain the facial identity of the original input faces in im', 'confidence': 0.9055835604667664, 'text_region': [[429.0, 955.0], [757.0, 955.0], [757.0, 970.0], [429.0, 970.0]]}, {'text': 'ages or videos. Evaluations on two standard face database', 'confidence': 0.9386464953422546, 'text_region': [[430.0, 971.0], [758.0, 971.0], [758.0, 986.0], [430.0, 986.0]]}], 'img_idx': 0, 'score': 0.9842371940612793}\n",
      "{'type': 'text', 'bbox': [75, 855, 404, 986], 'res': [{'text': 'We use verification score of the state-of-the-art face ver-', 'confidence': 0.9337100386619568, 'text_region': [[92.0, 856.0], [401.0, 856.0], [401.0, 870.0], [92.0, 870.0]]}, {'text': 'ification network FaceNe [23] to measure the quantitative', 'confidence': 0.8703161478042603, 'text_region': [[74.0, 873.0], [401.0, 873.0], [401.0, 888.0], [74.0, 888.0]]}, {'text': 'rexults of the generated 1000 samples using the three dif-', 'confidence': 0.8953555822372437, 'text_region': [[74.0, 889.0], [401.0, 889.0], [401.0, 904.0], [74.0, 904.0]]}, {'text': 'ferent translation model. As reported in Table.l we can', 'confidence': 0.8928412795066833, 'text_region': [[74.0, 906.0], [403.0, 906.0], [403.0, 921.0], [74.0, 921.0]]}, {'text': 'find that the proposed Model3 can achieve the lowest ver-', 'confidence': 0.9386318922042847, 'text_region': [[75.0, 922.0], [401.0, 922.0], [401.0, 937.0], [75.0, 937.0]]}, {'text': 'ificatign score which means it has the surongest ability to', 'confidence': 0.8495215177536011, 'text_region': [[75.0, 940.0], [401.0, 940.0], [401.0, 952.0], [75.0, 952.0]]}, {'text': 'preserve the identity during the image-to-video and video-', 'confidence': 0.9384893178939819, 'text_region': [[74.0, 955.0], [400.0, 955.0], [400.0, 970.0], [74.0, 970.0]]}, {'text': 'to-image face translation task.', 'confidence': 0.9191076755523682, 'text_region': [[72.0, 971.0], [241.0, 971.0], [241.0, 986.0], [72.0, 986.0]]}], 'img_idx': 0, 'score': 0.9834281802177429}\n",
      "{'type': 'text', 'bbox': [75, 696, 404, 810], 'res': [{'text': 'As we can see from some failure cases shown in Fig.7', 'confidence': 0.9153646230697632, 'text_region': [[91.0, 697.0], [400.0, 697.0], [400.0, 712.0], [91.0, 712.0]]}, {'text': 'the non-frontal and quick moving faces are the most difficult', 'confidence': 0.9368006587028503, 'text_region': [[74.0, 713.0], [401.0, 713.0], [401.0, 728.0], [74.0, 728.0]]}, {'text': 'to translate for all of the three proposed models. In addition', 'confidence': 0.9237872362136841, 'text_region': [[74.0, 729.0], [400.0, 729.0], [400.0, 744.0], [74.0, 744.0]]}, {'text': 'the visual quality of the Model3s generated samples are', 'confidence': 0.9036839008331299, 'text_region': [[75.0, 748.0], [400.0, 748.0], [400.0, 759.0], [75.0, 759.0]]}, {'text': 'not always the best which suggests the identity preserving', 'confidence': 0.9469594359397888, 'text_region': [[74.0, 763.0], [401.0, 763.0], [401.0, 778.0], [74.0, 778.0]]}, {'text': 'term would be very strong to prevent the model from getting', 'confidence': 0.9417596459388733, 'text_region': [[72.0, 778.0], [401.0, 779.0], [401.0, 795.0], [72.0, 794.0]]}, {'text': 'more visually plausible results.', 'confidence': 0.980866014957428, 'text_region': [[73.0, 796.0], [248.0, 796.0], [248.0, 811.0], [73.0, 811.0]]}], 'img_idx': 0, 'score': 0.9820641279220581}\n",
      "{'type': 'text', 'bbox': [430, 659, 759, 775], 'res': [{'text': 'In addition, we also study the identity score curve of', 'confidence': 0.9178243279457092, 'text_region': [[446.0, 661.0], [759.0, 661.0], [759.0, 676.0], [446.0, 676.0]]}, {'text': 'the proposed Model3 that explicitly includes the identity', 'confidence': 0.9280450344085693, 'text_region': [[430.0, 678.0], [757.0, 678.0], [757.0, 693.0], [430.0, 693.0]]}, {'text': 'preserving cost. As depicted in Fig 6. on the two used', 'confidence': 0.9029866456985474, 'text_region': [[430.0, 694.0], [758.0, 694.0], [758.0, 709.0], [430.0, 709.0]]}, {'text': 'datasets, the identity-based cost can always decrease sta', 'confidence': 0.9040055274963379, 'text_region': [[430.0, 711.0], [755.0, 711.0], [755.0, 726.0], [430.0, 726.0]]}, {'text': 'bly as the training iteration number increases towards 50K.', 'confidence': 0.927646815776825, 'text_region': [[430.0, 727.0], [754.0, 727.0], [754.0, 742.0], [430.0, 742.0]]}, {'text': 'This demonstrates that the progosed model can be trained', 'confidence': 0.9114851355552673, 'text_region': [[432.0, 745.0], [757.0, 745.0], [757.0, 757.0], [432.0, 757.0]]}, {'text': 'to transfer samples with keeping identity better.', 'confidence': 0.9428675174713135, 'text_region': [[429.0, 760.0], [693.0, 760.0], [693.0, 775.0], [429.0, 775.0]]}], 'img_idx': 0, 'score': 0.9779899716377258}\n",
      "{'type': 'text', 'bbox': [431, 573, 759, 632], 'res': [{'text': 'Table 1.FaceNet scone measured by L2 distance of the FaceNet', 'confidence': 0.9224006533622742, 'text_region': [[428.0, 571.0], [758.0, 572.0], [758.0, 587.0], [428.0, 586.0]]}, {'text': '[23 face embeddings of image-tovideo and video-to-image', 'confidence': 0.8558676242828369, 'text_region': [[430.0, 587.0], [757.0, 587.0], [757.0, 602.0], [430.0, 602.0]]}, {'text': 'translation for the thaee praposed roodels on the Celeb and Pa5', 'confidence': 0.8644506931304932, 'text_region': [[429.0, 602.0], [755.0, 601.0], [755.0, 616.0], [429.0, 617.0]]}, {'text': 'datasels.', 'confidence': 0.9351798295974731, 'text_region': [[432.0, 619.0], [476.0, 619.0], [476.0, 632.0], [432.0, 632.0]]}], 'img_idx': 0, 'score': 0.9679231643676758}\n",
      "{'type': 'text', 'bbox': [113, 413, 739, 443], 'res': [{'text': 'Figure5.Vide-to-lmage translation nesuts (bModel-dModel2-fModel3 and dheir reconstructed resuls (c-e-g on the Celeb and', 'confidence': 0.8345024585723877, 'text_region': [[75.0, 414.0], [757.0, 414.0], [757.0, 425.0], [75.0, 425.0]]}, {'text': 'PaSC databases', 'confidence': 0.933799684047699, 'text_region': [[75.0, 429.0], [155.0, 429.0], [155.0, 442.0], [75.0, 442.0]]}], 'img_idx': 0, 'score': 0.8773412704467773}\n",
      "{'type': 'title', 'bbox': [431, 792, 654, 812], 'res': [{'text': '5.Conclusion and Future Work', 'confidence': 0.9552289843559265, 'text_region': [[430.0, 794.0], [653.0, 794.0], [653.0, 810.0], [430.0, 810.0]]}], 'img_idx': 0, 'score': 0.9193947315216064}\n",
      "{'type': 'title', 'bbox': [74, 826, 257, 844], 'res': [{'text': '4.3.Quantitative Evaluation', 'confidence': 0.964651882648468, 'text_region': [[77.0, 828.0], [258.0, 828.0], [258.0, 843.0], [77.0, 843.0]]}], 'img_idx': 0, 'score': 0.9149184226989746}\n",
      "{'type': 'figure', 'bbox': [90, 101, 743, 404], 'res': [{'text': 'Paee', 'confidence': 0.5022076964378357, 'text_region': [[622.0, 108.0], [733.0, 108.0], [733.0, 127.0], [622.0, 127.0]]}, {'text': 'his', 'confidence': 0.6154975295066833, 'text_region': [[234.0, 241.0], [256.0, 241.0], [256.0, 249.0], [234.0, 249.0]]}, {'text': 'rd H2', 'confidence': 0.5639634132385254, 'text_region': [[403.0, 241.0], [429.0, 241.0], [429.0, 249.0], [403.0, 249.0]]}], 'img_idx': 0, 'score': 0.9736326336860657}\n",
      "{'type': 'figure', 'bbox': [445, 481, 745, 560], 'res': [{'text': 'FaceNet Score', 'confidence': 0.9173814058303833, 'text_region': [[454.0, 491.0], [527.0, 491.0], [527.0, 503.0], [454.0, 503.0]]}, {'text': 'Image-to-Video', 'confidence': 0.9312862157821655, 'text_region': [[543.0, 483.0], [625.0, 483.0], [625.0, 495.0], [543.0, 495.0]]}, {'text': 'Video-to-Image', 'confidence': 0.8361620306968689, 'text_region': [[652.0, 484.0], [732.0, 484.0], [732.0, 495.0], [652.0, 495.0]]}, {'text': 'Celeb', 'confidence': 0.9721758961677551, 'text_region': [[542.0, 498.0], [578.0, 498.0], [578.0, 509.0], [542.0, 509.0]]}, {'text': 'PasC', 'confidence': 0.855729341506958, 'text_region': [[593.0, 498.0], [624.0, 498.0], [624.0, 509.0], [593.0, 509.0]]}, {'text': 'Celeb', 'confidence': 0.9351384043693542, 'text_region': [[647.0, 494.0], [683.0, 497.0], [681.0, 511.0], [646.0, 508.0]]}, {'text': 'PasC', 'confidence': 0.6965005397796631, 'text_region': [[699.0, 498.0], [732.0, 498.0], [732.0, 509.0], [699.0, 509.0]]}, {'text': 'Modell', 'confidence': 0.9806158542633057, 'text_region': [[469.0, 510.0], [511.0, 510.0], [511.0, 526.0], [469.0, 526.0]]}, {'text': '4.0611', 'confidence': 0.6413270831108093, 'text_region': [[542.0, 513.0], [577.0, 513.0], [577.0, 525.0], [542.0, 525.0]]}, {'text': '0.0523', 'confidence': 0.7966451644897461, 'text_region': [[592.0, 510.0], [630.0, 510.0], [630.0, 526.0], [592.0, 526.0]]}, {'text': '0.0675', 'confidence': 0.9288037419319153, 'text_region': [[646.0, 513.0], [683.0, 513.0], [683.0, 525.0], [646.0, 525.0]]}, {'text': '0.0678', 'confidence': 0.9046595096588135, 'text_region': [[696.0, 512.0], [738.0, 512.0], [738.0, 528.0], [696.0, 528.0]]}, {'text': 'Model2', 'confidence': 0.9441061019897461, 'text_region': [[469.0, 525.0], [512.0, 525.0], [512.0, 541.0], [469.0, 541.0]]}, {'text': '.0493', 'confidence': 0.9311560392379761, 'text_region': [[541.0, 525.0], [579.0, 525.0], [579.0, 541.0], [541.0, 541.0]]}, {'text': '0.0486', 'confidence': 0.957896888256073, 'text_region': [[593.0, 525.0], [629.0, 528.0], [628.0, 542.0], [591.0, 539.0]]}, {'text': '0.0621', 'confidence': 0.904356062412262, 'text_region': [[645.0, 525.0], [683.0, 525.0], [683.0, 541.0], [645.0, 541.0]]}, {'text': '0.0610', 'confidence': 0.8668725490570068, 'text_region': [[696.0, 525.0], [737.0, 525.0], [737.0, 541.0], [696.0, 541.0]]}, {'text': 'Models', 'confidence': 0.943678081035614, 'text_region': [[470.0, 542.0], [512.0, 542.0], [512.0, 555.0], [470.0, 555.0]]}, {'text': '0.0428', 'confidence': 0.8080410957336426, 'text_region': [[541.0, 542.0], [578.0, 542.0], [578.0, 555.0], [541.0, 555.0]]}, {'text': '0.0356', 'confidence': 0.9059726595878601, 'text_region': [[591.0, 542.0], [630.0, 542.0], [630.0, 555.0], [591.0, 555.0]]}, {'text': '0.0535', 'confidence': 0.8457650542259216, 'text_region': [[645.0, 542.0], [686.0, 542.0], [686.0, 555.0], [645.0, 555.0]]}, {'text': '0.0504', 'confidence': 0.8605737686157227, 'text_region': [[697.0, 542.0], [737.0, 542.0], [737.0, 555.0], [697.0, 555.0]]}], 'img_idx': 0, 'score': 0.9259340763092041}\n",
      "[2025/04/29 18:29:59] ppocr INFO: markdown save to ./output/004_ocr.md\n"
     ]
    }
   ],
   "source": [
    "import os\n",
    "import cv2\n",
    "from paddleocr import PPStructure,save_structure_res\n",
    "from ppstructure.recovery.recovery_to_doc import sorted_layout_boxes\n",
    "from ppstructure.recovery.recovery_to_markdown import convert_info_markdown\n",
    "\n",
    "# This time, turn image to pdf markdown\n",
    "table_engine = PPStructure(recovery=True, lang='en')\n",
    "\n",
    "save_folder = './output'\n",
    "img_path = 'PaddleOCR/docs/datasets/images/tablebank_demo/004.png'\n",
    "img = cv2.imread(img_path)\n",
    "result = table_engine(img)\n",
    "save_structure_res(result, save_folder, os.path.basename(img_path).split('.')[0])\n",
    "\n",
    "for line in result:\n",
    "    line.pop('img')\n",
    "    print(line)\n",
    "\n",
    "h, w, _ = img.shape\n",
    "res = sorted_layout_boxes(result, w)\n",
    "convert_info_markdown(res, save_folder, os.path.basename(img_path).split('.')[0])"
   ]
  },
  {
   "cell_type": "code",
   "execution_count": null,
   "metadata": {},
   "outputs": [],
   "source": []
  }
 ],
 "metadata": {
  "accelerator": "GPU",
  "colab": {
   "gpuType": "T4",
   "provenance": []
  },
  "kernelspec": {
   "display_name": "Python (paddletest)",
   "language": "python",
   "name": "paddletest"
  },
  "language_info": {
   "codemirror_mode": {
    "name": "ipython",
    "version": 3
   },
   "file_extension": ".py",
   "mimetype": "text/x-python",
   "name": "python",
   "nbconvert_exporter": "python",
   "pygments_lexer": "ipython3",
   "version": "3.10.16"
  }
 },
 "nbformat": 4,
 "nbformat_minor": 4
}
