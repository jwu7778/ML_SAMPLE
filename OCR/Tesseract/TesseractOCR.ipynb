{
 "cells": [
  {
   "cell_type": "code",
   "execution_count": 1,
   "metadata": {
    "id": "HaM3cMUDA_Ma"
   },
   "outputs": [],
   "source": [
    "import pytesseract\n",
    "from PIL import Image\n",
    "# psm is an important param, learn how to set it with the link below\n",
    "# https://pyimagesearch.com/2021/11/15/tesseract-page-segmentation-modes-psms-explained-how-to-improve-your-ocr-accuracy/\n",
    "# oem is another important param, ranged 0-3. start with 3 and if not good, try the rest\n",
    "custom_config = r'--oem 3 --psm 6'\n",
    "image_path = \"./sample_image.jpg\"\n",
    "extracted_data = pytesseract.image_to_data(Image.open(image_path), lang='eng', config=custom_config, output_type=pytesseract.Output.DICT)"
   ]
  },
  {
   "cell_type": "code",
   "execution_count": 2,
   "metadata": {
    "colab": {
     "base_uri": "https://localhost:8080/"
    },
    "id": "Key-3vILBNUd",
    "outputId": "9271cbeb-a746-4376-a82c-eea8f82a0227"
   },
   "outputs": [
    {
     "name": "stdout",
     "output_type": "stream",
     "text": [
      "Filtered text (confidence >= 70):\n",
      "1-\n",
      "TEL:\n",
      "DFOL kk\n",
      "534\n",
      ": =\n",
      "=\n",
      "= =\n",
      "=\n",
      "e\n"
     ]
    }
   ],
   "source": [
    "# Set confidence threshold (e.g., 70%)\n",
    "conf_threshold = 70\n",
    "\n",
    "# Reconstruct the string output while skipping low-confidence words\n",
    "filtered_text = []\n",
    "current_line = []\n",
    "prev_block_num = -1\n",
    "prev_line_num = -1\n",
    "\n",
    "for i in range(len(extracted_data[\"text\"])):\n",
    "    text = extracted_data[\"text\"][i].strip()\n",
    "    conf = float(extracted_data[\"conf\"][i])\n",
    "    block_num = extracted_data[\"block_num\"][i]\n",
    "    line_num = extracted_data[\"line_num\"][i]\n",
    "    \n",
    "    # Skip if:\n",
    "    # 1. Empty text OR\n",
    "    # 2. Confidence below threshold OR\n",
    "    # 3. Confidence is -1 (Tesseract's \"non-text\" marker)\n",
    "    if not text or conf < conf_threshold or conf == -1:\n",
    "        continue\n",
    "    \n",
    "    # Handle line breaks (Tesseract's line/block tracking)\n",
    "    if block_num != prev_block_num or line_num != prev_line_num:\n",
    "        if current_line:  # Join words in the current line\n",
    "            filtered_text.append(\" \".join(current_line))\n",
    "            current_line = []\n",
    "        prev_block_num = block_num\n",
    "        prev_line_num = line_num\n",
    "    \n",
    "    current_line.append(text)\n",
    "\n",
    "# Add the last line if it exists\n",
    "if current_line:\n",
    "    filtered_text.append(\" \".join(current_line))\n",
    "\n",
    "# Join all lines with newlines (mimicking image_to_string output)\n",
    "final_output = \"\\n\".join(filtered_text)\n",
    "\n",
    "print(\"Filtered text (confidence >= {}):\\n{}\".format(conf_threshold, final_output))"
   ]
  },
  {
   "cell_type": "code",
   "execution_count": 3,
   "metadata": {},
   "outputs": [],
   "source": [
    "from PIL import ImageDraw, ImageFont\n",
    "\n",
    "# Create a white background image (adjust size as needed)\n",
    "with Image.open(image_path) as img:\n",
    "    img_width, img_height = img.size\n",
    "\n",
    "# Create a white background image with same dimensions as original\n",
    "img = Image.new('RGB', (img_width, img_height), (255, 255, 255))\n",
    "draw = ImageDraw.Draw(img)\n",
    "\n",
    "# Load font\n",
    "# you can download from https://github.com/PaddlePaddle/PaddleOCR/tree/main/doc/fonts\n",
    "font_path = None # if None, it will use default\n",
    "\n",
    "for i in range(len(extracted_data['text'])):\n",
    "    text = extracted_data['text'][i]\n",
    "    if not text:  # Skip empty text\n",
    "        continue\n",
    "    conf = extracted_data['conf'][i]\n",
    "    if conf <50:\n",
    "        continue\n",
    "    \n",
    "    # Get the bounding box coordinates\n",
    "    x_min, y_min = extracted_data['left'][i], extracted_data['top'][i]\n",
    "    \n",
    "    # Calculate text width and height\n",
    "    text_width = extracted_data['width'][i]\n",
    "    text_height = extracted_data['height'][i]\n",
    "    \n",
    "    # Calculate font size based on text height\n",
    "    font_size = int((text_height + text_width/len(text))*0.35)  # Adjust factor as needed\n",
    "\n",
    "    if font_size < 10:\n",
    "        font_size = 10  # Minimum font size\n",
    "    if font_size > 200:\n",
    "        font_size = 200 \n",
    "    try:\n",
    "        font = ImageFont.truetype(font_path, font_size)\n",
    "    except:\n",
    "        font = ImageFont.load_default(size=font_size)\n",
    "    \n",
    "    # Calculate text position (centered in the box)\n",
    "    text_bbox = draw.textbbox((0, 0), text, font=font)\n",
    "    text_w = text_bbox[2] - text_bbox[0]\n",
    "    text_h = text_bbox[3] - text_bbox[1]\n",
    "    \n",
    "    # Calculate position to center text in the box\n",
    "    x_pos = x_min + (text_width - text_w) // 2\n",
    "    y_pos = y_min + (text_height - text_h) // 2\n",
    "    \n",
    "    # Draw the text\n",
    "    draw.text((x_pos, y_pos), text, font=font, fill=(0, 0, 0))\n",
    "\n",
    "# Save or show the image\n",
    "img.save('output_text.png')\n",
    "img.show()"
   ]
  },
  {
   "cell_type": "code",
   "execution_count": null,
   "metadata": {},
   "outputs": [],
   "source": []
  }
 ],
 "metadata": {
  "colab": {
   "provenance": []
  },
  "kernelspec": {
   "display_name": "Python (actocr)",
   "language": "python",
   "name": "actocr"
  },
  "language_info": {
   "codemirror_mode": {
    "name": "ipython",
    "version": 3
   },
   "file_extension": ".py",
   "mimetype": "text/x-python",
   "name": "python",
   "nbconvert_exporter": "python",
   "pygments_lexer": "ipython3",
   "version": "3.10.16"
  }
 },
 "nbformat": 4,
 "nbformat_minor": 4
}
