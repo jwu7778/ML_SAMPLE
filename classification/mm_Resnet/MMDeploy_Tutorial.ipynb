{
 "cells": [
  {
   "cell_type": "markdown",
   "id": "3e5ea362-c5e4-4ae8-8933-ca5693e82ba5",
   "metadata": {},
   "source": [
    "# Export onnx with your trained weights"
   ]
  },
  {
   "cell_type": "code",
   "execution_count": 2,
   "id": "6ba48f75-8943-44f5-89f5-6d21f4c157b8",
   "metadata": {},
   "outputs": [],
   "source": [
    "# revise the code according to your model\n",
    "# the second line is the location of exporting script, base on your nature of your task (classification/ detection/ segmentation)\n",
    "# the third line is the location of configs of your model\n",
    "# the fourth line is the location of weights (pth) of your model\n",
    "# the fifth line is a sample of image\n",
    "# the sixth line is exporting location\n",
    "# the seventh line is choosing model to run on cpu or cuda"
   ]
  },
  {
   "cell_type": "code",
   "execution_count": 1,
   "id": "e010393a-c28e-4eb7-8d58-a178ef7daa5b",
   "metadata": {
    "scrolled": true
   },
   "outputs": [
    {
     "name": "stdout",
     "output_type": "stream",
     "text": [
      "06/02 16:11:15 - mmengine - \u001b[4m\u001b[97mINFO\u001b[0m - Start pipeline mmdeploy.apis.pytorch2onnx.torch2onnx in subprocess\n",
      "06/02 16:11:16 - mmengine - \u001b[5m\u001b[4m\u001b[33mWARNING\u001b[0m - Failed to search registry with scope \"mmpretrain\" in the \"Codebases\" registry tree. As a workaround, the current \"Codebases\" registry in \"mmdeploy\" is used to build instance. This may cause unexpected failure when running the built modules. Please check whether \"mmpretrain\" is a correct scope, or whether the registry is initialized.\n",
      "06/02 16:11:16 - mmengine - \u001b[5m\u001b[4m\u001b[33mWARNING\u001b[0m - Failed to search registry with scope \"mmpretrain\" in the \"mmpretrain_tasks\" registry tree. As a workaround, the current \"mmpretrain_tasks\" registry in \"mmdeploy\" is used to build instance. This may cause unexpected failure when running the built modules. Please check whether \"mmpretrain\" is a correct scope, or whether the registry is initialized.\n",
      "Loads checkpoint by local backend from path: mmpretrain/work_dirs/resnet101_8xb32_planenbike/epoch_200.pth\n",
      "06/02 16:11:16 - mmengine - \u001b[5m\u001b[4m\u001b[33mWARNING\u001b[0m - DeprecationWarning: get_onnx_config will be deprecated in the future. \n",
      "06/02 16:11:16 - mmengine - \u001b[4m\u001b[97mINFO\u001b[0m - Export PyTorch model to ONNX: mmdeploy_model/resnet/end2end.onnx.\n",
      "06/02 16:11:17 - mmengine - \u001b[4m\u001b[97mINFO\u001b[0m - Execute onnx optimize passes.\n",
      "06/02 16:11:18 - mmengine - \u001b[4m\u001b[97mINFO\u001b[0m - Finish pipeline mmdeploy.apis.pytorch2onnx.torch2onnx\n",
      "06/02 16:11:18 - mmengine - \u001b[4m\u001b[97mINFO\u001b[0m - Start pipeline mmdeploy.apis.utils.utils.to_backend in main process\n",
      "06/02 16:11:18 - mmengine - \u001b[4m\u001b[97mINFO\u001b[0m - Finish pipeline mmdeploy.apis.utils.utils.to_backend\n",
      "06/02 16:11:18 - mmengine - \u001b[4m\u001b[97mINFO\u001b[0m - visualize onnxruntime model start.\n",
      "06/02 16:11:20 - mmengine - \u001b[5m\u001b[4m\u001b[33mWARNING\u001b[0m - Failed to search registry with scope \"mmpretrain\" in the \"Codebases\" registry tree. As a workaround, the current \"Codebases\" registry in \"mmdeploy\" is used to build instance. This may cause unexpected failure when running the built modules. Please check whether \"mmpretrain\" is a correct scope, or whether the registry is initialized.\n",
      "06/02 16:11:20 - mmengine - \u001b[5m\u001b[4m\u001b[33mWARNING\u001b[0m - Failed to search registry with scope \"mmpretrain\" in the \"mmpretrain_tasks\" registry tree. As a workaround, the current \"mmpretrain_tasks\" registry in \"mmdeploy\" is used to build instance. This may cause unexpected failure when running the built modules. Please check whether \"mmpretrain\" is a correct scope, or whether the registry is initialized.\n",
      "06/02 16:11:20 - mmengine - \u001b[5m\u001b[4m\u001b[33mWARNING\u001b[0m - Failed to search registry with scope \"mmpretrain\" in the \"backend_classifiers\" registry tree. As a workaround, the current \"backend_classifiers\" registry in \"mmdeploy\" is used to build instance. This may cause unexpected failure when running the built modules. Please check whether \"mmpretrain\" is a correct scope, or whether the registry is initialized.\n",
      "06/02 16:11:20 - mmengine - \u001b[5m\u001b[4m\u001b[33mWARNING\u001b[0m - The library of onnxruntime custom ops doesnot exist: \n",
      "06/02 16:11:21 - mmengine - \u001b[5m\u001b[4m\u001b[33mWARNING\u001b[0m - expect input device cuda but get cuda:0.\n",
      "06/02 16:11:22 - mmengine - \u001b[4m\u001b[97mINFO\u001b[0m - visualize onnxruntime model success.\n",
      "06/02 16:11:22 - mmengine - \u001b[4m\u001b[97mINFO\u001b[0m - visualize pytorch model start.\n",
      "06/02 16:11:23 - mmengine - \u001b[5m\u001b[4m\u001b[33mWARNING\u001b[0m - Failed to search registry with scope \"mmpretrain\" in the \"Codebases\" registry tree. As a workaround, the current \"Codebases\" registry in \"mmdeploy\" is used to build instance. This may cause unexpected failure when running the built modules. Please check whether \"mmpretrain\" is a correct scope, or whether the registry is initialized.\n",
      "06/02 16:11:23 - mmengine - \u001b[5m\u001b[4m\u001b[33mWARNING\u001b[0m - Failed to search registry with scope \"mmpretrain\" in the \"mmpretrain_tasks\" registry tree. As a workaround, the current \"mmpretrain_tasks\" registry in \"mmdeploy\" is used to build instance. This may cause unexpected failure when running the built modules. Please check whether \"mmpretrain\" is a correct scope, or whether the registry is initialized.\n",
      "Loads checkpoint by local backend from path: mmpretrain/work_dirs/resnet101_8xb32_planenbike/epoch_200.pth\n",
      "06/02 16:11:25 - mmengine - \u001b[4m\u001b[97mINFO\u001b[0m - visualize pytorch model success.\n",
      "06/02 16:11:25 - mmengine - \u001b[4m\u001b[97mINFO\u001b[0m - All process success.\n"
     ]
    }
   ],
   "source": [
    "%run mmdeploy/tools/deploy.py \\\n",
    "mmdeploy/configs/mmpretrain/classification_onnxruntime_dynamic.py \\\n",
    "mmpretrain/work_dirs/resnet101_8xb32_planenbike/resnet101_8xb32_planenbike.py \\\n",
    "mmpretrain/work_dirs/resnet101_8xb32_planenbike/epoch_200.pth \\\n",
    "mmpretrain/caltech101/airplanes/image_0800.jpg \\\n",
    "--work-dir mmdeploy_model/resnet \\\n",
    "--device cuda"
   ]
  },
  {
   "cell_type": "markdown",
   "id": "f36d707d-1c2c-454d-938c-5ee50f45f842",
   "metadata": {},
   "source": [
    "⚠️ **Note on Running Deployment Cells**\n",
    "\n",
    "Due to how Python's `multiprocessing` module interacts with interactive environments like Jupyter Notebook, running multiple `%run mmdeploy/tools/deploy.py` commands consecutively **without restarting the kernel** may lead to the following error:\n",
    "\n",
    "\" AttributeError: module 'main' has no attribute 'spec' \"\n",
    "\n",
    "\n",
    "This is a known limitation when using `spawn` multiprocessing context in scripts executed via `%run`.\n",
    "\n",
    "🛠 **Recommended Action**:  \n",
    "After executing a deployment script, please **restart the Jupyter kernel** before running another `%run mmdeploy/tools/deploy.py ...` command. You can do this by clicking:\n",
    "\n",
    "> Kernel → Restart Kernel\n",
    "\n",
    "This will prevent the multiprocessing error and ensure stable behavior.\n"
   ]
  },
  {
   "cell_type": "code",
   "execution_count": 1,
   "id": "eaca5784-e5ed-4970-bc4c-2add023597d2",
   "metadata": {
    "scrolled": true
   },
   "outputs": [
    {
     "name": "stdout",
     "output_type": "stream",
     "text": [
      "06/02 16:06:12 - mmengine - \u001b[4m\u001b[97mINFO\u001b[0m - Start pipeline mmdeploy.apis.pytorch2onnx.torch2onnx in subprocess\n",
      "06/02 16:06:12 - mmengine - \u001b[5m\u001b[4m\u001b[33mWARNING\u001b[0m - Failed to search registry with scope \"mmpretrain\" in the \"Codebases\" registry tree. As a workaround, the current \"Codebases\" registry in \"mmdeploy\" is used to build instance. This may cause unexpected failure when running the built modules. Please check whether \"mmpretrain\" is a correct scope, or whether the registry is initialized.\n",
      "06/02 16:06:12 - mmengine - \u001b[5m\u001b[4m\u001b[33mWARNING\u001b[0m - Failed to search registry with scope \"mmpretrain\" in the \"mmpretrain_tasks\" registry tree. As a workaround, the current \"mmpretrain_tasks\" registry in \"mmdeploy\" is used to build instance. This may cause unexpected failure when running the built modules. Please check whether \"mmpretrain\" is a correct scope, or whether the registry is initialized.\n",
      "Loads checkpoint by local backend from path: mmpretrain/work_dirs/resnet101-csra_1xb16_voc07-448px/epoch_16.pth\n",
      "06/02 16:06:13 - mmengine - \u001b[5m\u001b[4m\u001b[33mWARNING\u001b[0m - DeprecationWarning: get_onnx_config will be deprecated in the future. \n",
      "06/02 16:06:13 - mmengine - \u001b[4m\u001b[97mINFO\u001b[0m - Export PyTorch model to ONNX: mmdeploy_model/csra/end2end.onnx.\n",
      "06/02 16:06:14 - mmengine - \u001b[4m\u001b[97mINFO\u001b[0m - Execute onnx optimize passes.\n",
      "06/02 16:06:14 - mmengine - \u001b[4m\u001b[97mINFO\u001b[0m - Finish pipeline mmdeploy.apis.pytorch2onnx.torch2onnx\n",
      "06/02 16:06:15 - mmengine - \u001b[4m\u001b[97mINFO\u001b[0m - Start pipeline mmdeploy.apis.utils.utils.to_backend in main process\n",
      "06/02 16:06:15 - mmengine - \u001b[4m\u001b[97mINFO\u001b[0m - Finish pipeline mmdeploy.apis.utils.utils.to_backend\n",
      "06/02 16:06:15 - mmengine - \u001b[4m\u001b[97mINFO\u001b[0m - visualize onnxruntime model start.\n",
      "06/02 16:06:17 - mmengine - \u001b[5m\u001b[4m\u001b[33mWARNING\u001b[0m - Failed to search registry with scope \"mmpretrain\" in the \"Codebases\" registry tree. As a workaround, the current \"Codebases\" registry in \"mmdeploy\" is used to build instance. This may cause unexpected failure when running the built modules. Please check whether \"mmpretrain\" is a correct scope, or whether the registry is initialized.\n",
      "06/02 16:06:17 - mmengine - \u001b[5m\u001b[4m\u001b[33mWARNING\u001b[0m - Failed to search registry with scope \"mmpretrain\" in the \"mmpretrain_tasks\" registry tree. As a workaround, the current \"mmpretrain_tasks\" registry in \"mmdeploy\" is used to build instance. This may cause unexpected failure when running the built modules. Please check whether \"mmpretrain\" is a correct scope, or whether the registry is initialized.\n",
      "06/02 16:06:17 - mmengine - \u001b[5m\u001b[4m\u001b[33mWARNING\u001b[0m - Failed to search registry with scope \"mmpretrain\" in the \"backend_classifiers\" registry tree. As a workaround, the current \"backend_classifiers\" registry in \"mmdeploy\" is used to build instance. This may cause unexpected failure when running the built modules. Please check whether \"mmpretrain\" is a correct scope, or whether the registry is initialized.\n",
      "06/02 16:06:17 - mmengine - \u001b[5m\u001b[4m\u001b[33mWARNING\u001b[0m - The library of onnxruntime custom ops doesnot exist: \n"
     ]
    },
    {
     "name": "stderr",
     "output_type": "stream",
     "text": [
      "\u001b[0;93m2025-06-02 16:06:17.434537556 [W:onnxruntime:, session_state.cc:1280 VerifyEachNodeIsAssignedToAnEp] Some nodes were not assigned to the preferred execution providers which may or may not have an negative impact on performance. e.g. ORT explicitly assigns shape related ops to CPU to improve perf.\u001b[m\n",
      "\u001b[0;93m2025-06-02 16:06:17.434555703 [W:onnxruntime:, session_state.cc:1282 VerifyEachNodeIsAssignedToAnEp] Rerunning with verbose output on a non-minimal build will show node assignments.\u001b[m\n"
     ]
    },
    {
     "name": "stdout",
     "output_type": "stream",
     "text": [
      "06/02 16:06:17 - mmengine - \u001b[5m\u001b[4m\u001b[33mWARNING\u001b[0m - expect input device cuda but get cuda:0.\n",
      "06/02 16:06:19 - mmengine - \u001b[4m\u001b[97mINFO\u001b[0m - visualize onnxruntime model success.\n",
      "06/02 16:06:19 - mmengine - \u001b[4m\u001b[97mINFO\u001b[0m - visualize pytorch model start.\n",
      "06/02 16:06:20 - mmengine - \u001b[5m\u001b[4m\u001b[33mWARNING\u001b[0m - Failed to search registry with scope \"mmpretrain\" in the \"Codebases\" registry tree. As a workaround, the current \"Codebases\" registry in \"mmdeploy\" is used to build instance. This may cause unexpected failure when running the built modules. Please check whether \"mmpretrain\" is a correct scope, or whether the registry is initialized.\n",
      "06/02 16:06:20 - mmengine - \u001b[5m\u001b[4m\u001b[33mWARNING\u001b[0m - Failed to search registry with scope \"mmpretrain\" in the \"mmpretrain_tasks\" registry tree. As a workaround, the current \"mmpretrain_tasks\" registry in \"mmdeploy\" is used to build instance. This may cause unexpected failure when running the built modules. Please check whether \"mmpretrain\" is a correct scope, or whether the registry is initialized.\n",
      "Loads checkpoint by local backend from path: mmpretrain/work_dirs/resnet101-csra_1xb16_voc07-448px/epoch_16.pth\n",
      "06/02 16:06:22 - mmengine - \u001b[4m\u001b[97mINFO\u001b[0m - visualize pytorch model success.\n",
      "06/02 16:06:22 - mmengine - \u001b[4m\u001b[97mINFO\u001b[0m - All process success.\n"
     ]
    }
   ],
   "source": [
    "%run mmdeploy/tools/deploy.py \\\n",
    "mmdeploy/configs/mmpretrain/classification_onnxruntime_dynamic.py \\\n",
    "mmpretrain/work_dirs/resnet101-csra_1xb16_voc07-448px/resnet101-csra_1xb16_voc07-448px.py \\\n",
    "mmpretrain/work_dirs/resnet101-csra_1xb16_voc07-448px/epoch_16.pth \\\n",
    "mmpretrain/data/VOC2007/JPEGImages/000001.jpg \\\n",
    "--work-dir mmdeploy_model/csra \\\n",
    "--device cuda"
   ]
  },
  {
   "cell_type": "markdown",
   "id": "9466eb9a-480b-418c-a6a9-e1dc9f981a58",
   "metadata": {},
   "source": [
    "# Inference the onnx"
   ]
  },
  {
   "cell_type": "code",
   "execution_count": 2,
   "id": "f8529d8b-1331-43be-9dbf-2a8941f5328c",
   "metadata": {},
   "outputs": [
    {
     "name": "stdout",
     "output_type": "stream",
     "text": [
      "['CUDAExecutionProvider', 'CPUExecutionProvider']\n"
     ]
    }
   ],
   "source": [
    "# providers set provider priority cuda or cpu\n",
    "import onnxruntime\n",
    "sess = onnxruntime.InferenceSession(\"mmdeploy_model/resnet/end2end.onnx\", providers=[\"CUDAExecutionProvider\"])\n",
    "print(sess.get_providers())"
   ]
  },
  {
   "cell_type": "code",
   "execution_count": 3,
   "id": "f85e59a5-2b5d-49f5-a92f-1a7bae3c0a6c",
   "metadata": {},
   "outputs": [
    {
     "name": "stdout",
     "output_type": "stream",
     "text": [
      "06/02 16:07:39 - mmengine - \u001b[5m\u001b[4m\u001b[33mWARNING\u001b[0m - Failed to search registry with scope \"mmpretrain\" in the \"Codebases\" registry tree. As a workaround, the current \"Codebases\" registry in \"mmdeploy\" is used to build instance. This may cause unexpected failure when running the built modules. Please check whether \"mmpretrain\" is a correct scope, or whether the registry is initialized.\n",
      "06/02 16:07:39 - mmengine - \u001b[5m\u001b[4m\u001b[33mWARNING\u001b[0m - Failed to search registry with scope \"mmpretrain\" in the \"mmpretrain_tasks\" registry tree. As a workaround, the current \"mmpretrain_tasks\" registry in \"mmdeploy\" is used to build instance. This may cause unexpected failure when running the built modules. Please check whether \"mmpretrain\" is a correct scope, or whether the registry is initialized.\n",
      "06/02 16:07:39 - mmengine - \u001b[5m\u001b[4m\u001b[33mWARNING\u001b[0m - Failed to search registry with scope \"mmpretrain\" in the \"backend_classifiers\" registry tree. As a workaround, the current \"backend_classifiers\" registry in \"mmdeploy\" is used to build instance. This may cause unexpected failure when running the built modules. Please check whether \"mmpretrain\" is a correct scope, or whether the registry is initialized.\n",
      "06/02 16:07:39 - mmengine - \u001b[5m\u001b[4m\u001b[33mWARNING\u001b[0m - The library of onnxruntime custom ops doesnot exist: \n",
      "06/02 16:07:39 - mmengine - \u001b[5m\u001b[4m\u001b[33mWARNING\u001b[0m - expect input device cuda but get cuda:0.\n",
      "[<DataSample(\n",
      "\n",
      "META INFORMATION\n",
      "    img_shape: (224, 224)\n",
      "    ori_shape: (134, 400)\n",
      "    num_classes: 2\n",
      "    img_path: mmpretrain/caltech101/airplanes/image_0800.jpg\n",
      "    scale_factor: (1.91, 1.9104477611940298)\n",
      "\n",
      "DATA FIELDS\n",
      "    pred_score: tensor([1.0000e+00, 5.9185e-07])\n",
      "    pred_label: tensor([0])\n",
      "\n",
      ") at 0x7c70b434cfa0>]\n"
     ]
    }
   ],
   "source": [
    "'''\n",
    "from mmdeploy.apis import inference_model\n",
    "is the official method to run an onnx, but it require torch\n",
    "'''\n",
    "#Classification\n",
    "from mmdeploy.apis import inference_model\n",
    "result = inference_model(\n",
    "    model_cfg='mmpretrain/work_dirs/resnet101_8xb32_planenbike/resnet101_8xb32_planenbike.py',\n",
    "    deploy_cfg='mmdeploy/configs/mmpretrain/classification_onnxruntime_dynamic.py',\n",
    "    backend_files=['mmdeploy_model/resnet/end2end.onnx'],\n",
    "    img='mmpretrain/caltech101/airplanes/image_0800.jpg',\n",
    "    device='cuda')\n",
    "print(result)"
   ]
  },
  {
   "cell_type": "code",
   "execution_count": 4,
   "id": "1067aaa2-7c6e-4433-84a7-e8496a6df5ea",
   "metadata": {},
   "outputs": [
    {
     "name": "stdout",
     "output_type": "stream",
     "text": [
      "Available providers: ['CPUExecutionProvider']\n",
      "Model output: [[9.999151e-01 8.487269e-05]]\n"
     ]
    }
   ],
   "source": [
    "'''\n",
    "this is an unofficial method to run an onnx that require no torch\n",
    "however, you need to check the 'model_cfg' to understand how the image was preprocessed\n",
    "which include normalization method and resize and padding method\n",
    "you may search keywords \"data_preprocessor\" and \"mean\" and \"std\" for normalization \n",
    "and \"pipeline\" and \"scale\" for resize and padding method\n",
    "'''\n",
    "#Classification \n",
    "import onnxruntime\n",
    "import numpy as np\n",
    "from PIL import Image\n",
    "\n",
    "# we resize with longer edge == target size, keep ratio, and pad on short edge\n",
    "def resize_and_pad(image, target_size, pad_color=(114, 114, 114)):\n",
    "    # Get original size\n",
    "    w, h = image.size\n",
    "\n",
    "    # Determine scale factor and new size\n",
    "    scale = target_size / max(w, h)\n",
    "    new_w, new_h = int(w * scale), int(h * scale)\n",
    "\n",
    "    # Resize the image with aspect ratio preserved\n",
    "    image = image.resize((new_w, new_h), Image.BILINEAR)\n",
    "\n",
    "    # Create a new square image and paste the resized image in the center\n",
    "    new_image = Image.new(\"RGB\", (target_size, target_size), pad_color)\n",
    "    paste_x = (target_size - new_w) // 2\n",
    "    paste_y = (target_size - new_h) // 2\n",
    "    new_image.paste(image, (paste_x, paste_y))\n",
    "\n",
    "    return new_image\n",
    "    \n",
    "# Load the ONNX model with CUDA execution provider\n",
    "sess = onnxruntime.InferenceSession(\"mmdeploy_model/resnet/end2end.onnx\", providers=[\"CPUExecutionProvider\"])\n",
    "print(\"Available providers:\", sess.get_providers())\n",
    "\n",
    "# Define the image path\n",
    "image_path = \"mmpretrain/caltech101/airplanes/image_0799.jpg\"\n",
    "\n",
    "# Load and preprocess the image\n",
    "image = Image.open(image_path)\n",
    "image = resize_and_pad(image, target_size=224)\n",
    "\n",
    "# Convert the input tensor to a numpy array (ONNXRuntime uses numpy arrays)\n",
    "input_array = np.transpose(image, (2,0,1))\n",
    "input_array = np.expand_dims(input_array,axis=0)\n",
    "\n",
    "'''\n",
    "according to config\n",
    "    data_preprocessor = dict(\n",
    "        mean=[\n",
    "            125.307,\n",
    "            122.961,\n",
    "            113.8575,\n",
    "        ],\n",
    "        std=[\n",
    "            51.5865,\n",
    "            50.847,\n",
    "            51.255,\n",
    "        ],\n",
    "        to_rgb=False)\n",
    "'''\n",
    "#as to_rgb=False, we swap the red and blue channel\n",
    "input_array = input_array[:,[2, 1, 0], :, :]\n",
    "#normalize image\n",
    "mean = np.array([125.307, 122.961, 113.8575]).reshape(1, 3, 1, 1) \n",
    "std = np.array([51.5865, 50.847, 51.255]).reshape(1, 3, 1, 1) \n",
    "input_array = (input_array - mean) / std\n",
    "input_array = input_array.astype('float32')\n",
    "\n",
    "# Get the model's input name (usually 'input' or something similar)\n",
    "input_name = sess.get_inputs()[0].name\n",
    "\n",
    "# Run inference on the input image\n",
    "outputs = sess.run(None, {input_name: input_array})\n",
    "\n",
    "# Get the output (typically the class probabilities)\n",
    "output = outputs[0]\n",
    "\n",
    "# Print the output\n",
    "print(\"Model output:\", output)\n"
   ]
  },
  {
   "cell_type": "code",
   "execution_count": 5,
   "id": "0e9915fd-8b27-49d6-bd36-99a62e7823ac",
   "metadata": {
    "scrolled": true
   },
   "outputs": [
    {
     "name": "stdout",
     "output_type": "stream",
     "text": [
      "[<DataSample(\n",
      "\n",
      "META INFORMATION\n",
      "    img_shape: (448, 448)\n",
      "    ori_shape: (500, 353)\n",
      "    num_classes: 20\n",
      "    img_path: mmpretrain/data/VOC2007/JPEGImages/000001.jpg\n",
      "    scale_factor: (1.2691218130311614, 0.896)\n",
      "\n",
      "DATA FIELDS\n",
      "    pred_score: tensor([1.4833e-04, 1.9765e-03, 4.1759e-04, 4.3038e-04, 1.6543e-03, 4.8158e-04,\n",
      "        1.3101e-03, 6.9526e-04, 8.0482e-03, 1.7875e-04, 4.2096e-04, 9.9958e-01,\n",
      "        1.2955e-04, 2.8720e-04, 9.9647e-01, 1.8178e-03, 9.2897e-04, 1.1288e-03,\n",
      "        3.9685e-04, 2.9027e-03])\n",
      "    pred_label: tensor([11, 14])\n",
      "\n",
      ") at 0x7c70b43d5f60>]\n"
     ]
    }
   ],
   "source": [
    "#Multi-label Classification \n",
    "from mmdeploy.apis import inference_model\n",
    "result = inference_model(\n",
    "    model_cfg='mmpretrain/work_dirs/resnet101-csra_1xb16_voc07-448px/resnet101-csra_1xb16_voc07-448px.py',\n",
    "    deploy_cfg='mmdeploy/configs/mmpretrain/classification_onnxruntime_dynamic.py',\n",
    "    backend_files=['mmdeploy_model/csra/end2end.onnx'],\n",
    "    img='mmpretrain/data/VOC2007/JPEGImages/000001.jpg',\n",
    "    device='cpu')\n",
    "print(result)"
   ]
  },
  {
   "cell_type": "code",
   "execution_count": 6,
   "id": "ecb32ea5-08e5-48f1-818f-7df6b78c1850",
   "metadata": {},
   "outputs": [
    {
     "name": "stdout",
     "output_type": "stream",
     "text": [
      "Available providers: ['CPUExecutionProvider']\n",
      "Model output: [[1.5553832e-04 2.1567941e-03 4.2802095e-04 4.7284365e-04 1.6741157e-03\n",
      "  5.2770972e-04 1.3337135e-03 7.0518255e-04 8.2379580e-03 1.9586086e-04\n",
      "  4.7579408e-04 9.9962926e-01 1.3703108e-04 3.0830503e-04 9.9632323e-01\n",
      "  2.0922124e-03 8.8834763e-04 1.1980832e-03 3.6549568e-04 3.4815073e-03]]\n",
      "Positive class: [11 14]\n"
     ]
    }
   ],
   "source": [
    "#Multi-label Classification without torch (may have little difference with official)\n",
    "import onnxruntime\n",
    "import numpy as np\n",
    "from PIL import Image\n",
    "import cv2\n",
    "'''\n",
    "according to config\n",
    "    dataset=dict(\n",
    "        data_root='data/VOC2007',\n",
    "        pipeline=[\n",
    "            dict(type='LoadImageFromFile'),\n",
    "            dict(scale=448, type='Resize'),\n",
    "'''\n",
    "# we resize\n",
    "def resize(image, target_size):\n",
    "    # Resize the image\n",
    "    image = image.resize((target_size, target_size), Image.BILINEAR)\n",
    "\n",
    "    return image\n",
    "    \n",
    "# Load the ONNX model with CUDA execution provider\n",
    "sess = onnxruntime.InferenceSession(\"mmdeploy_model/csra/end2end.onnx\", providers=[\"CPUExecutionProvider\"])\n",
    "print(\"Available providers:\", sess.get_providers())\n",
    "\n",
    "# Define the image path\n",
    "image_path = \"mmpretrain/data/VOC2007/JPEGImages/000001.jpg\"\n",
    "\n",
    "# Load and preprocess the image\n",
    "image = Image.open(image_path)\n",
    "image = resize(image, target_size=448)\n",
    "\n",
    "# Convert the input tensor to a numpy array (ONNXRuntime uses numpy arrays)\n",
    "input_array = np.transpose(image, (2,0,1))\n",
    "input_array = np.expand_dims(input_array,axis=0)\n",
    "\n",
    "'''\n",
    "according to config\n",
    "    data_preprocessor = dict(\n",
    "        mean=[\n",
    "            0,\n",
    "            0,\n",
    "            0,\n",
    "        ],\n",
    "        num_classes=20,\n",
    "        std=[\n",
    "            255,\n",
    "            255,\n",
    "            255,\n",
    "        ],\n",
    "        to_onehot=True,\n",
    "        to_rgb=True)\n",
    "'''\n",
    "#normalize image\n",
    "mean = np.array([0., 0., 0.]).reshape(1, 3, 1, 1) \n",
    "std = np.array([255., 255., 255.]).reshape(1, 3, 1, 1) \n",
    "input_array = (input_array - mean) / std\n",
    "input_array = input_array.astype('float32')\n",
    "\n",
    "# Get the model's input name (usually 'input' or something similar)\n",
    "input_name = sess.get_inputs()[0].name\n",
    "\n",
    "# Run inference on the input image\n",
    "outputs = sess.run(None, {input_name: input_array})\n",
    "\n",
    "# Get the output (typically the class probabilities)\n",
    "output = outputs[0]\n",
    "\n",
    "threshold = 0.5\n",
    "# Print the output\n",
    "print(\"Model output:\", output)\n",
    "print(\"Positive class:\", np.where(output[0]>threshold)[0])"
   ]
  },
  {
   "cell_type": "code",
   "execution_count": null,
   "id": "6ba9972a-0ba0-48f4-ae72-eb7ec65507f3",
   "metadata": {},
   "outputs": [],
   "source": []
  }
 ],
 "metadata": {
  "kernelspec": {
   "display_name": "Python (mmcres)",
   "language": "python",
   "name": "mmcres"
  },
  "language_info": {
   "codemirror_mode": {
    "name": "ipython",
    "version": 3
   },
   "file_extension": ".py",
   "mimetype": "text/x-python",
   "name": "python",
   "nbconvert_exporter": "python",
   "pygments_lexer": "ipython3",
   "version": "3.10.16"
  }
 },
 "nbformat": 4,
 "nbformat_minor": 5
}
