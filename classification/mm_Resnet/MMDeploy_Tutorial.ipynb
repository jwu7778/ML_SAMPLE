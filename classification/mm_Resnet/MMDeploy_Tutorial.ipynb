{
 "cells": [
  {
   "cell_type": "markdown",
   "id": "3e5ea362-c5e4-4ae8-8933-ca5693e82ba5",
   "metadata": {},
   "source": [
    "# Export onnx with your trained weights"
   ]
  },
  {
   "cell_type": "code",
   "execution_count": 1,
   "id": "781d8f14-5718-4ab1-8114-a98f476d890e",
   "metadata": {},
   "outputs": [
    {
     "name": "stdout",
     "output_type": "stream",
     "text": [
      "Using checkpoint: /home/test/carasml/classification/mm_Resnet/mmpretrain/work_dirs/resnet101_8xb32_planenbike/epoch_100.pth\n"
     ]
    }
   ],
   "source": [
    "import os\n",
    "def get_latest_checkpoint(base_dir):\n",
    "    ckpt_file = os.path.join(base_dir, \"last_checkpoint\")\n",
    "    if os.path.exists(ckpt_file):\n",
    "        with open(ckpt_file, \"r\") as f:\n",
    "            relative_ckpt_path = f.readline().strip()\n",
    "            full_ckpt_path = os.path.join(base_dir, relative_ckpt_path)\n",
    "            if os.path.exists(full_ckpt_path):\n",
    "                return full_ckpt_path\n",
    "    return None\n",
    "\n",
    "# the logs stored in work_dirs/resnet101_8xb32_planenbike/\n",
    "latest_ckpt = get_latest_checkpoint(\"mmpretrain/work_dirs/resnet101_8xb32_planenbike/\")\n",
    "print(f\"Using checkpoint: {latest_ckpt}\")"
   ]
  },
  {
   "cell_type": "code",
   "execution_count": 2,
   "id": "6ba48f75-8943-44f5-89f5-6d21f4c157b8",
   "metadata": {},
   "outputs": [],
   "source": [
    "# revise the code according to your model\n",
    "# the second line is the location of exporting script, base on your nature of your task (classification/ detection/ segmentation)\n",
    "# the third line is the location of configs of your model\n",
    "# the fourth line is the location of weights (pth) of your model\n",
    "# the fifth line is a sample of image\n",
    "# the sixth line is exporting location\n",
    "# the seventh line is choosing model to run on cpu or cuda"
   ]
  },
  {
   "cell_type": "code",
   "execution_count": 3,
   "id": "e010393a-c28e-4eb7-8d58-a178ef7daa5b",
   "metadata": {
    "scrolled": true
   },
   "outputs": [
    {
     "name": "stdout",
     "output_type": "stream",
     "text": [
      "07/09 13:39:39 - mmengine - \u001b[4m\u001b[97mINFO\u001b[0m - Start pipeline mmdeploy.apis.pytorch2onnx.torch2onnx in subprocess\n",
      "07/09 13:39:40 - mmengine - \u001b[5m\u001b[4m\u001b[33mWARNING\u001b[0m - Failed to search registry with scope \"mmpretrain\" in the \"Codebases\" registry tree. As a workaround, the current \"Codebases\" registry in \"mmdeploy\" is used to build instance. This may cause unexpected failure when running the built modules. Please check whether \"mmpretrain\" is a correct scope, or whether the registry is initialized.\n",
      "07/09 13:39:40 - mmengine - \u001b[5m\u001b[4m\u001b[33mWARNING\u001b[0m - Failed to search registry with scope \"mmpretrain\" in the \"mmpretrain_tasks\" registry tree. As a workaround, the current \"mmpretrain_tasks\" registry in \"mmdeploy\" is used to build instance. This may cause unexpected failure when running the built modules. Please check whether \"mmpretrain\" is a correct scope, or whether the registry is initialized.\n",
      "Loads checkpoint by local backend from path: /home/test/carasml/classification/mm_Resnet/mmpretrain/work_dirs/resnet101_8xb32_planenbike/epoch_100.pth\n",
      "07/09 13:39:40 - mmengine - \u001b[5m\u001b[4m\u001b[33mWARNING\u001b[0m - DeprecationWarning: get_onnx_config will be deprecated in the future. \n",
      "07/09 13:39:40 - mmengine - \u001b[4m\u001b[97mINFO\u001b[0m - Export PyTorch model to ONNX: mmdeploy_model/resnet/end2end.onnx.\n",
      "07/09 13:39:41 - mmengine - \u001b[4m\u001b[97mINFO\u001b[0m - Execute onnx optimize passes.\n",
      "07/09 13:39:41 - mmengine - \u001b[4m\u001b[97mINFO\u001b[0m - Finish pipeline mmdeploy.apis.pytorch2onnx.torch2onnx\n",
      "07/09 13:39:42 - mmengine - \u001b[4m\u001b[97mINFO\u001b[0m - Start pipeline mmdeploy.apis.utils.utils.to_backend in main process\n",
      "07/09 13:39:42 - mmengine - \u001b[4m\u001b[97mINFO\u001b[0m - Finish pipeline mmdeploy.apis.utils.utils.to_backend\n",
      "07/09 13:39:42 - mmengine - \u001b[4m\u001b[97mINFO\u001b[0m - visualize onnxruntime model start.\n",
      "07/09 13:39:44 - mmengine - \u001b[5m\u001b[4m\u001b[33mWARNING\u001b[0m - Failed to search registry with scope \"mmpretrain\" in the \"Codebases\" registry tree. As a workaround, the current \"Codebases\" registry in \"mmdeploy\" is used to build instance. This may cause unexpected failure when running the built modules. Please check whether \"mmpretrain\" is a correct scope, or whether the registry is initialized.\n",
      "07/09 13:39:44 - mmengine - \u001b[5m\u001b[4m\u001b[33mWARNING\u001b[0m - Failed to search registry with scope \"mmpretrain\" in the \"mmpretrain_tasks\" registry tree. As a workaround, the current \"mmpretrain_tasks\" registry in \"mmdeploy\" is used to build instance. This may cause unexpected failure when running the built modules. Please check whether \"mmpretrain\" is a correct scope, or whether the registry is initialized.\n",
      "07/09 13:39:44 - mmengine - \u001b[5m\u001b[4m\u001b[33mWARNING\u001b[0m - Failed to search registry with scope \"mmpretrain\" in the \"backend_classifiers\" registry tree. As a workaround, the current \"backend_classifiers\" registry in \"mmdeploy\" is used to build instance. This may cause unexpected failure when running the built modules. Please check whether \"mmpretrain\" is a correct scope, or whether the registry is initialized.\n",
      "07/09 13:39:44 - mmengine - \u001b[5m\u001b[4m\u001b[33mWARNING\u001b[0m - The library of onnxruntime custom ops doesnot exist: \n",
      "07/09 13:39:45 - mmengine - \u001b[4m\u001b[97mINFO\u001b[0m - visualize onnxruntime model success.\n",
      "07/09 13:39:45 - mmengine - \u001b[4m\u001b[97mINFO\u001b[0m - visualize pytorch model start.\n",
      "07/09 13:39:48 - mmengine - \u001b[5m\u001b[4m\u001b[33mWARNING\u001b[0m - Failed to search registry with scope \"mmpretrain\" in the \"Codebases\" registry tree. As a workaround, the current \"Codebases\" registry in \"mmdeploy\" is used to build instance. This may cause unexpected failure when running the built modules. Please check whether \"mmpretrain\" is a correct scope, or whether the registry is initialized.\n",
      "07/09 13:39:48 - mmengine - \u001b[5m\u001b[4m\u001b[33mWARNING\u001b[0m - Failed to search registry with scope \"mmpretrain\" in the \"mmpretrain_tasks\" registry tree. As a workaround, the current \"mmpretrain_tasks\" registry in \"mmdeploy\" is used to build instance. This may cause unexpected failure when running the built modules. Please check whether \"mmpretrain\" is a correct scope, or whether the registry is initialized.\n",
      "Loads checkpoint by local backend from path: /home/test/carasml/classification/mm_Resnet/mmpretrain/work_dirs/resnet101_8xb32_planenbike/epoch_100.pth\n",
      "07/09 13:39:49 - mmengine - \u001b[4m\u001b[97mINFO\u001b[0m - visualize pytorch model success.\n",
      "07/09 13:39:49 - mmengine - \u001b[4m\u001b[97mINFO\u001b[0m - All process success.\n"
     ]
    }
   ],
   "source": [
    "%run mmdeploy/tools/deploy.py \\\n",
    "mmdeploy/configs/mmpretrain/classification_onnxruntime_dynamic.py \\\n",
    "mmpretrain/work_dirs/resnet101_8xb32_planenbike/resnet101_8xb32_planenbike.py \\\n",
    "{latest_ckpt} \\\n",
    "mmpretrain/caltech101/val/airplane/image_0800.jpg \\\n",
    "--work-dir mmdeploy_model/resnet \\\n",
    "--device cpu"
   ]
  },
  {
   "cell_type": "markdown",
   "id": "f36d707d-1c2c-454d-938c-5ee50f45f842",
   "metadata": {},
   "source": [
    "⚠️ **Note on Running Deployment Cells**\n",
    "\n",
    "Due to how Python's `multiprocessing` module interacts with interactive environments like Jupyter Notebook, running multiple `%run mmdeploy/tools/deploy.py` commands consecutively **without restarting the kernel** may lead to the following error:\n",
    "\n",
    "\" AttributeError: module 'main' has no attribute 'spec' \"\n",
    "\n",
    "\n",
    "This is a known limitation when using `spawn` multiprocessing context in scripts executed via `%run`.\n",
    "\n",
    "🛠 **Recommended Action**:  \n",
    "After executing a deployment script, please **restart the Jupyter kernel** before running another `%run mmdeploy/tools/deploy.py ...` command. You can do this by clicking:\n",
    "\n",
    "> Kernel → Restart Kernel\n",
    "\n",
    "This will prevent the multiprocessing error and ensure stable behavior.\n"
   ]
  },
  {
   "cell_type": "code",
   "execution_count": 1,
   "id": "28500d99-f18a-4371-ae16-393bbbcc4a4f",
   "metadata": {},
   "outputs": [
    {
     "name": "stdout",
     "output_type": "stream",
     "text": [
      "Using checkpoint: /home/test/carasml/classification/mm_Resnet/mmpretrain/work_dirs/resnet101-csra_1xb16_voc07-448px_VOC/epoch_20.pth\n"
     ]
    }
   ],
   "source": [
    "import os\n",
    "def get_latest_checkpoint(base_dir):\n",
    "    ckpt_file = os.path.join(base_dir, \"last_checkpoint\")\n",
    "    if os.path.exists(ckpt_file):\n",
    "        with open(ckpt_file, \"r\") as f:\n",
    "            relative_ckpt_path = f.readline().strip()\n",
    "            full_ckpt_path = os.path.join(base_dir, relative_ckpt_path)\n",
    "            if os.path.exists(full_ckpt_path):\n",
    "                return full_ckpt_path\n",
    "    return None\n",
    "\n",
    "# the logs stored in work_dirs/resnet101_8xb32_planenbike/\n",
    "latest_ckpt = get_latest_checkpoint(\"mmpretrain/work_dirs/resnet101-csra_1xb16_voc07-448px_VOC/\")\n",
    "print(f\"Using checkpoint: {latest_ckpt}\")"
   ]
  },
  {
   "cell_type": "code",
   "execution_count": 2,
   "id": "eaca5784-e5ed-4970-bc4c-2add023597d2",
   "metadata": {
    "scrolled": true
   },
   "outputs": [
    {
     "name": "stdout",
     "output_type": "stream",
     "text": [
      "07/09 13:57:34 - mmengine - \u001b[4m\u001b[97mINFO\u001b[0m - Start pipeline mmdeploy.apis.pytorch2onnx.torch2onnx in subprocess\n",
      "07/09 13:57:35 - mmengine - \u001b[5m\u001b[4m\u001b[33mWARNING\u001b[0m - Failed to search registry with scope \"mmpretrain\" in the \"Codebases\" registry tree. As a workaround, the current \"Codebases\" registry in \"mmdeploy\" is used to build instance. This may cause unexpected failure when running the built modules. Please check whether \"mmpretrain\" is a correct scope, or whether the registry is initialized.\n",
      "07/09 13:57:35 - mmengine - \u001b[5m\u001b[4m\u001b[33mWARNING\u001b[0m - Failed to search registry with scope \"mmpretrain\" in the \"mmpretrain_tasks\" registry tree. As a workaround, the current \"mmpretrain_tasks\" registry in \"mmdeploy\" is used to build instance. This may cause unexpected failure when running the built modules. Please check whether \"mmpretrain\" is a correct scope, or whether the registry is initialized.\n",
      "Loads checkpoint by local backend from path: /home/test/carasml/classification/mm_Resnet/mmpretrain/work_dirs/resnet101-csra_1xb16_voc07-448px_VOC/epoch_20.pth\n",
      "07/09 13:57:35 - mmengine - \u001b[5m\u001b[4m\u001b[33mWARNING\u001b[0m - DeprecationWarning: get_onnx_config will be deprecated in the future. \n",
      "07/09 13:57:35 - mmengine - \u001b[4m\u001b[97mINFO\u001b[0m - Export PyTorch model to ONNX: mmdeploy_model/csra/end2end.onnx.\n",
      "07/09 13:57:36 - mmengine - \u001b[4m\u001b[97mINFO\u001b[0m - Execute onnx optimize passes.\n",
      "07/09 13:57:37 - mmengine - \u001b[4m\u001b[97mINFO\u001b[0m - Finish pipeline mmdeploy.apis.pytorch2onnx.torch2onnx\n",
      "07/09 13:57:37 - mmengine - \u001b[4m\u001b[97mINFO\u001b[0m - Start pipeline mmdeploy.apis.utils.utils.to_backend in main process\n",
      "07/09 13:57:37 - mmengine - \u001b[4m\u001b[97mINFO\u001b[0m - Finish pipeline mmdeploy.apis.utils.utils.to_backend\n",
      "07/09 13:57:37 - mmengine - \u001b[4m\u001b[97mINFO\u001b[0m - visualize onnxruntime model start.\n",
      "07/09 13:57:39 - mmengine - \u001b[5m\u001b[4m\u001b[33mWARNING\u001b[0m - Failed to search registry with scope \"mmpretrain\" in the \"Codebases\" registry tree. As a workaround, the current \"Codebases\" registry in \"mmdeploy\" is used to build instance. This may cause unexpected failure when running the built modules. Please check whether \"mmpretrain\" is a correct scope, or whether the registry is initialized.\n",
      "07/09 13:57:39 - mmengine - \u001b[5m\u001b[4m\u001b[33mWARNING\u001b[0m - Failed to search registry with scope \"mmpretrain\" in the \"mmpretrain_tasks\" registry tree. As a workaround, the current \"mmpretrain_tasks\" registry in \"mmdeploy\" is used to build instance. This may cause unexpected failure when running the built modules. Please check whether \"mmpretrain\" is a correct scope, or whether the registry is initialized.\n",
      "07/09 13:57:39 - mmengine - \u001b[5m\u001b[4m\u001b[33mWARNING\u001b[0m - Failed to search registry with scope \"mmpretrain\" in the \"backend_classifiers\" registry tree. As a workaround, the current \"backend_classifiers\" registry in \"mmdeploy\" is used to build instance. This may cause unexpected failure when running the built modules. Please check whether \"mmpretrain\" is a correct scope, or whether the registry is initialized.\n",
      "07/09 13:57:39 - mmengine - \u001b[5m\u001b[4m\u001b[33mWARNING\u001b[0m - The library of onnxruntime custom ops doesnot exist: \n",
      "07/09 13:57:41 - mmengine - \u001b[4m\u001b[97mINFO\u001b[0m - visualize onnxruntime model success.\n",
      "07/09 13:57:41 - mmengine - \u001b[4m\u001b[97mINFO\u001b[0m - visualize pytorch model start.\n",
      "07/09 13:57:44 - mmengine - \u001b[5m\u001b[4m\u001b[33mWARNING\u001b[0m - Failed to search registry with scope \"mmpretrain\" in the \"Codebases\" registry tree. As a workaround, the current \"Codebases\" registry in \"mmdeploy\" is used to build instance. This may cause unexpected failure when running the built modules. Please check whether \"mmpretrain\" is a correct scope, or whether the registry is initialized.\n",
      "07/09 13:57:44 - mmengine - \u001b[5m\u001b[4m\u001b[33mWARNING\u001b[0m - Failed to search registry with scope \"mmpretrain\" in the \"mmpretrain_tasks\" registry tree. As a workaround, the current \"mmpretrain_tasks\" registry in \"mmdeploy\" is used to build instance. This may cause unexpected failure when running the built modules. Please check whether \"mmpretrain\" is a correct scope, or whether the registry is initialized.\n",
      "Loads checkpoint by local backend from path: /home/test/carasml/classification/mm_Resnet/mmpretrain/work_dirs/resnet101-csra_1xb16_voc07-448px_VOC/epoch_20.pth\n",
      "07/09 13:57:45 - mmengine - \u001b[4m\u001b[97mINFO\u001b[0m - visualize pytorch model success.\n",
      "07/09 13:57:45 - mmengine - \u001b[4m\u001b[97mINFO\u001b[0m - All process success.\n"
     ]
    }
   ],
   "source": [
    "%run mmdeploy/tools/deploy.py \\\n",
    "mmdeploy/configs/mmpretrain/classification_onnxruntime_dynamic.py \\\n",
    "mmpretrain/work_dirs/resnet101-csra_1xb16_voc07-448px_VOC/resnet101-csra_1xb16_voc07-448px_VOC.py \\\n",
    "{latest_ckpt} \\\n",
    "mmpretrain/VOC2007/JPEGImages/000001.jpg \\\n",
    "--work-dir mmdeploy_model/csra \\\n",
    "--device cpu"
   ]
  },
  {
   "cell_type": "markdown",
   "id": "9466eb9a-480b-418c-a6a9-e1dc9f981a58",
   "metadata": {},
   "source": [
    "# Inference the onnx"
   ]
  },
  {
   "cell_type": "code",
   "execution_count": 3,
   "id": "f8529d8b-1331-43be-9dbf-2a8941f5328c",
   "metadata": {},
   "outputs": [
    {
     "name": "stdout",
     "output_type": "stream",
     "text": [
      "['CUDAExecutionProvider', 'CPUExecutionProvider']\n"
     ]
    }
   ],
   "source": [
    "# providers set provider priority cuda or cpu\n",
    "import onnxruntime\n",
    "sess = onnxruntime.InferenceSession(\"mmdeploy_model/resnet/end2end.onnx\", providers=[\"CUDAExecutionProvider\"])\n",
    "print(sess.get_providers())"
   ]
  },
  {
   "cell_type": "code",
   "execution_count": 5,
   "id": "f85e59a5-2b5d-49f5-a92f-1a7bae3c0a6c",
   "metadata": {},
   "outputs": [
    {
     "name": "stdout",
     "output_type": "stream",
     "text": [
      "07/09 13:40:21 - mmengine - \u001b[5m\u001b[4m\u001b[33mWARNING\u001b[0m - Failed to search registry with scope \"mmpretrain\" in the \"Codebases\" registry tree. As a workaround, the current \"Codebases\" registry in \"mmdeploy\" is used to build instance. This may cause unexpected failure when running the built modules. Please check whether \"mmpretrain\" is a correct scope, or whether the registry is initialized.\n",
      "07/09 13:40:21 - mmengine - \u001b[5m\u001b[4m\u001b[33mWARNING\u001b[0m - Failed to search registry with scope \"mmpretrain\" in the \"mmpretrain_tasks\" registry tree. As a workaround, the current \"mmpretrain_tasks\" registry in \"mmdeploy\" is used to build instance. This may cause unexpected failure when running the built modules. Please check whether \"mmpretrain\" is a correct scope, or whether the registry is initialized.\n",
      "07/09 13:40:21 - mmengine - \u001b[5m\u001b[4m\u001b[33mWARNING\u001b[0m - Failed to search registry with scope \"mmpretrain\" in the \"backend_classifiers\" registry tree. As a workaround, the current \"backend_classifiers\" registry in \"mmdeploy\" is used to build instance. This may cause unexpected failure when running the built modules. Please check whether \"mmpretrain\" is a correct scope, or whether the registry is initialized.\n",
      "07/09 13:40:21 - mmengine - \u001b[5m\u001b[4m\u001b[33mWARNING\u001b[0m - The library of onnxruntime custom ops doesnot exist: \n",
      "[<DataSample(\n",
      "\n",
      "META INFORMATION\n",
      "    ori_shape: (134, 400)\n",
      "    img_path: mmpretrain/caltech101/val/airplane/image_0800.jpg\n",
      "    num_classes: 2\n",
      "    img_shape: (224, 224)\n",
      "    scale_factor: (1.91, 1.9104477611940298)\n",
      "\n",
      "DATA FIELDS\n",
      "    pred_score: tensor([9.9984e-01, 1.5835e-04])\n",
      "    pred_label: tensor([0])\n",
      "\n",
      ") at 0x783fb4152230>]\n"
     ]
    }
   ],
   "source": [
    "'''\n",
    "from mmdeploy.apis import inference_model\n",
    "is the official method to run an onnx, but it require torch\n",
    "'''\n",
    "#Classification\n",
    "from mmdeploy.apis import inference_model\n",
    "result = inference_model(\n",
    "    model_cfg='mmpretrain/work_dirs/resnet101_8xb32_planenbike/resnet101_8xb32_planenbike.py',\n",
    "    deploy_cfg='mmdeploy/configs/mmpretrain/classification_onnxruntime_dynamic.py',\n",
    "    backend_files=['mmdeploy_model/resnet/end2end.onnx'],\n",
    "    img='mmpretrain/caltech101/val/airplane/image_0800.jpg',\n",
    "    device='cpu')\n",
    "print(result)"
   ]
  },
  {
   "cell_type": "code",
   "execution_count": 6,
   "id": "1067aaa2-7c6e-4433-84a7-e8496a6df5ea",
   "metadata": {},
   "outputs": [
    {
     "name": "stdout",
     "output_type": "stream",
     "text": [
      "Available providers: ['CPUExecutionProvider']\n",
      "Model output: [[9.9952507e-01 4.7489296e-04]]\n"
     ]
    }
   ],
   "source": [
    "'''\n",
    "this is an unofficial method to run an onnx that require no torch\n",
    "however, you need to check the 'model_cfg' to understand how the image was preprocessed\n",
    "which include normalization method and resize and padding method\n",
    "you may search keywords \"data_preprocessor\" and \"mean\" and \"std\" for normalization \n",
    "and \"pipeline\" and \"scale\" for resize and padding method\n",
    "'''\n",
    "#Classification \n",
    "import onnxruntime\n",
    "import numpy as np\n",
    "from PIL import Image\n",
    "\n",
    "# we resize with longer edge == target size, keep ratio, and pad on short edge\n",
    "def resize_and_pad(image, target_size, pad_color=(114, 114, 114)):\n",
    "    # Get original size\n",
    "    w, h = image.size\n",
    "\n",
    "    # Determine scale factor and new size\n",
    "    scale = target_size / max(w, h)\n",
    "    new_w, new_h = int(w * scale), int(h * scale)\n",
    "\n",
    "    # Resize the image with aspect ratio preserved\n",
    "    image = image.resize((new_w, new_h), Image.BILINEAR)\n",
    "\n",
    "    # Create a new square image and paste the resized image in the center\n",
    "    new_image = Image.new(\"RGB\", (target_size, target_size), pad_color)\n",
    "    paste_x = (target_size - new_w) // 2\n",
    "    paste_y = (target_size - new_h) // 2\n",
    "    new_image.paste(image, (paste_x, paste_y))\n",
    "\n",
    "    return new_image\n",
    "    \n",
    "# Load the ONNX model with cpu or cuda execution provider\n",
    "sess = onnxruntime.InferenceSession(\"mmdeploy_model/resnet/end2end.onnx\", providers=[\"CPUExecutionProvider\"])\n",
    "print(\"Available providers:\", sess.get_providers())\n",
    "\n",
    "# Define the image path\n",
    "image_path = \"mmpretrain/caltech101/val/airplane/image_0800.jpg\"\n",
    "\n",
    "# Load and preprocess the image\n",
    "image = Image.open(image_path)\n",
    "image = resize_and_pad(image, target_size=224)\n",
    "\n",
    "# Convert the input tensor to a numpy array (ONNXRuntime uses numpy arrays)\n",
    "input_array = np.transpose(image, (2,0,1))\n",
    "input_array = np.expand_dims(input_array,axis=0)\n",
    "\n",
    "'''\n",
    "according to config\n",
    "    data_preprocessor = dict(\n",
    "        mean=[\n",
    "            125.307,\n",
    "            122.961,\n",
    "            113.8575,\n",
    "        ],\n",
    "        std=[\n",
    "            51.5865,\n",
    "            50.847,\n",
    "            51.255,\n",
    "        ],\n",
    "        to_rgb=False)\n",
    "'''\n",
    "#as to_rgb=False, we swap the red and blue channel\n",
    "input_array = input_array[:,[2, 1, 0], :, :]\n",
    "#normalize image\n",
    "mean = np.array([125.307, 122.961, 113.8575]).reshape(1, 3, 1, 1) \n",
    "std = np.array([51.5865, 50.847, 51.255]).reshape(1, 3, 1, 1) \n",
    "input_array = (input_array - mean) / std\n",
    "input_array = input_array.astype('float32')\n",
    "\n",
    "# Get the model's input name (usually 'input' or something similar)\n",
    "input_name = sess.get_inputs()[0].name\n",
    "\n",
    "# Run inference on the input image\n",
    "outputs = sess.run(None, {input_name: input_array})\n",
    "\n",
    "# Get the output (typically the class probabilities)\n",
    "output = outputs[0]\n",
    "\n",
    "# Print the output\n",
    "print(\"Model output:\", output)\n"
   ]
  },
  {
   "cell_type": "code",
   "execution_count": 4,
   "id": "0e9915fd-8b27-49d6-bd36-99a62e7823ac",
   "metadata": {
    "scrolled": true
   },
   "outputs": [
    {
     "name": "stdout",
     "output_type": "stream",
     "text": [
      "07/09 13:58:26 - mmengine - \u001b[5m\u001b[4m\u001b[33mWARNING\u001b[0m - Failed to search registry with scope \"mmpretrain\" in the \"Codebases\" registry tree. As a workaround, the current \"Codebases\" registry in \"mmdeploy\" is used to build instance. This may cause unexpected failure when running the built modules. Please check whether \"mmpretrain\" is a correct scope, or whether the registry is initialized.\n",
      "07/09 13:58:26 - mmengine - \u001b[5m\u001b[4m\u001b[33mWARNING\u001b[0m - Failed to search registry with scope \"mmpretrain\" in the \"mmpretrain_tasks\" registry tree. As a workaround, the current \"mmpretrain_tasks\" registry in \"mmdeploy\" is used to build instance. This may cause unexpected failure when running the built modules. Please check whether \"mmpretrain\" is a correct scope, or whether the registry is initialized.\n",
      "07/09 13:58:26 - mmengine - \u001b[5m\u001b[4m\u001b[33mWARNING\u001b[0m - Failed to search registry with scope \"mmpretrain\" in the \"backend_classifiers\" registry tree. As a workaround, the current \"backend_classifiers\" registry in \"mmdeploy\" is used to build instance. This may cause unexpected failure when running the built modules. Please check whether \"mmpretrain\" is a correct scope, or whether the registry is initialized.\n",
      "07/09 13:58:26 - mmengine - \u001b[5m\u001b[4m\u001b[33mWARNING\u001b[0m - The library of onnxruntime custom ops doesnot exist: \n",
      "[<DataSample(\n",
      "\n",
      "META INFORMATION\n",
      "    scale_factor: (1.2691218130311614, 0.896)\n",
      "    ori_shape: (500, 353)\n",
      "    num_classes: 20\n",
      "    img_path: mmpretrain/VOC2007/JPEGImages/000001.jpg\n",
      "    img_shape: (448, 448)\n",
      "\n",
      "DATA FIELDS\n",
      "    pred_score: tensor([6.8036e-04, 5.6560e-03, 3.1393e-03, 1.8880e-03, 1.4933e-02, 3.6103e-03,\n",
      "        4.6581e-03, 4.2138e-03, 4.2370e-02, 1.9926e-03, 6.4860e-03, 9.8552e-01,\n",
      "        2.4376e-03, 1.6751e-03, 9.9417e-01, 1.2269e-02, 7.4681e-03, 3.3953e-02,\n",
      "        7.3749e-04, 1.1394e-02])\n",
      "    pred_label: tensor([11, 14])\n",
      "\n",
      ") at 0x71162075e050>]\n"
     ]
    }
   ],
   "source": [
    "#Multi-label Classification \n",
    "from mmdeploy.apis import inference_model\n",
    "result = inference_model(\n",
    "    model_cfg='mmpretrain/work_dirs/resnet101-csra_1xb16_voc07-448px_VOC/resnet101-csra_1xb16_voc07-448px_VOC.py',\n",
    "    deploy_cfg='mmdeploy/configs/mmpretrain/classification_onnxruntime_dynamic.py',\n",
    "    backend_files=['mmdeploy_model/csra/end2end.onnx'],\n",
    "    img='mmpretrain/VOC2007/JPEGImages/000001.jpg',\n",
    "    device='cpu')\n",
    "print(result)"
   ]
  },
  {
   "cell_type": "code",
   "execution_count": 5,
   "id": "ecb32ea5-08e5-48f1-818f-7df6b78c1850",
   "metadata": {},
   "outputs": [
    {
     "name": "stdout",
     "output_type": "stream",
     "text": [
      "Available providers: ['CPUExecutionProvider']\n",
      "Model output: [[7.3173642e-04 6.0661137e-03 3.1151474e-03 2.0319521e-03 1.5517503e-02\n",
      "  3.7080646e-03 4.8745573e-03 4.3576360e-03 4.5312017e-02 2.1176934e-03\n",
      "  7.1195364e-03 9.8515677e-01 2.6083291e-03 1.7824173e-03 9.9485207e-01\n",
      "  1.2965769e-02 7.6399744e-03 3.7139058e-02 7.3951483e-04 1.2001842e-02]]\n",
      "Positive class: [11 14]\n"
     ]
    }
   ],
   "source": [
    "#Multi-label Classification without torch (may have little difference with official)\n",
    "import onnxruntime\n",
    "import numpy as np\n",
    "from PIL import Image\n",
    "import cv2\n",
    "'''\n",
    "according to config\n",
    "    dataset=dict(\n",
    "        data_root='data/VOC2007',\n",
    "        pipeline=[\n",
    "            dict(type='LoadImageFromFile'),\n",
    "            dict(scale=448, type='Resize'),\n",
    "'''\n",
    "# we resize\n",
    "def resize(image, target_size):\n",
    "    # Resize the image\n",
    "    image = image.resize((target_size, target_size), Image.BILINEAR)\n",
    "\n",
    "    return image\n",
    "    \n",
    "# Load the ONNX model with CUDA execution provider\n",
    "sess = onnxruntime.InferenceSession(\"mmdeploy_model/csra/end2end.onnx\", providers=[\"CPUExecutionProvider\"])\n",
    "print(\"Available providers:\", sess.get_providers())\n",
    "\n",
    "# Define the image path\n",
    "image_path = \"mmpretrain/VOC2007/JPEGImages/000001.jpg\"\n",
    "\n",
    "# Load and preprocess the image\n",
    "image = Image.open(image_path)\n",
    "image = resize(image, target_size=448)\n",
    "\n",
    "# Convert the input tensor to a numpy array (ONNXRuntime uses numpy arrays)\n",
    "input_array = np.transpose(image, (2,0,1))\n",
    "input_array = np.expand_dims(input_array,axis=0)\n",
    "\n",
    "'''\n",
    "according to config\n",
    "    data_preprocessor = dict(\n",
    "        mean=[\n",
    "            0,\n",
    "            0,\n",
    "            0,\n",
    "        ],\n",
    "        num_classes=20,\n",
    "        std=[\n",
    "            255,\n",
    "            255,\n",
    "            255,\n",
    "        ],\n",
    "        to_onehot=True,\n",
    "        to_rgb=True)\n",
    "'''\n",
    "#normalize image\n",
    "mean = np.array([0., 0., 0.]).reshape(1, 3, 1, 1) \n",
    "std = np.array([255., 255., 255.]).reshape(1, 3, 1, 1) \n",
    "input_array = (input_array - mean) / std\n",
    "input_array = input_array.astype('float32')\n",
    "\n",
    "# Get the model's input name (usually 'input' or something similar)\n",
    "input_name = sess.get_inputs()[0].name\n",
    "\n",
    "# Run inference on the input image\n",
    "outputs = sess.run(None, {input_name: input_array})\n",
    "\n",
    "# Get the output (typically the class probabilities)\n",
    "output = outputs[0]\n",
    "\n",
    "threshold = 0.5\n",
    "# Print the output\n",
    "print(\"Model output:\", output)\n",
    "print(\"Positive class:\", np.where(output[0]>threshold)[0])"
   ]
  },
  {
   "cell_type": "code",
   "execution_count": null,
   "id": "6ba9972a-0ba0-48f4-ae72-eb7ec65507f3",
   "metadata": {},
   "outputs": [],
   "source": []
  }
 ],
 "metadata": {
  "kernelspec": {
   "display_name": "Python (mmresnet)",
   "language": "python",
   "name": "mmresnet"
  },
  "language_info": {
   "codemirror_mode": {
    "name": "ipython",
    "version": 3
   },
   "file_extension": ".py",
   "mimetype": "text/x-python",
   "name": "python",
   "nbconvert_exporter": "python",
   "pygments_lexer": "ipython3",
   "version": "3.10.18"
  }
 },
 "nbformat": 4,
 "nbformat_minor": 5
}
